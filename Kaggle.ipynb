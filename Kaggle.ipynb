{
 "cells": [
  {
   "cell_type": "code",
   "execution_count": 317,
   "id": "5ee730ed",
   "metadata": {},
   "outputs": [
    {
     "data": {
      "application/javascript": [
       "IPython.notebook.set_autosave_interval(30000)"
      ]
     },
     "metadata": {},
     "output_type": "display_data"
    },
    {
     "name": "stdout",
     "output_type": "stream",
     "text": [
      "Autosaving every 30 seconds\n"
     ]
    }
   ],
   "source": [
    "%autosave 30"
   ]
  },
  {
   "cell_type": "code",
   "execution_count": 333,
   "id": "92ddc042",
   "metadata": {},
   "outputs": [],
   "source": [
    "import pandas as pd\n",
    "import numpy as np\n",
    "import warnings\n",
    "\n",
    "warnings.filterwarnings('ignore')\n",
    "\n",
    "import seaborn as sns\n",
    "import matplotlib.pyplot as plt\n",
    "%matplotlib inline"
   ]
  },
  {
   "cell_type": "code",
   "execution_count": 395,
   "id": "1bf742b7",
   "metadata": {},
   "outputs": [],
   "source": [
    "data = pd.read_csv('train.csv')\n",
    "df_test = pd.read_csv('test.csv')"
   ]
  },
  {
   "cell_type": "code",
   "execution_count": 396,
   "id": "4efe4527",
   "metadata": {},
   "outputs": [
    {
     "data": {
      "text/html": [
       "<div>\n",
       "<style scoped>\n",
       "    .dataframe tbody tr th:only-of-type {\n",
       "        vertical-align: middle;\n",
       "    }\n",
       "\n",
       "    .dataframe tbody tr th {\n",
       "        vertical-align: top;\n",
       "    }\n",
       "\n",
       "    .dataframe thead th {\n",
       "        text-align: right;\n",
       "    }\n",
       "</style>\n",
       "<table border=\"1\" class=\"dataframe\">\n",
       "  <thead>\n",
       "    <tr style=\"text-align: right;\">\n",
       "      <th></th>\n",
       "      <th>PassengerId</th>\n",
       "      <th>Survived</th>\n",
       "      <th>Pclass</th>\n",
       "      <th>Name</th>\n",
       "      <th>Sex</th>\n",
       "      <th>Age</th>\n",
       "      <th>SibSp</th>\n",
       "      <th>Parch</th>\n",
       "      <th>Ticket</th>\n",
       "      <th>Fare</th>\n",
       "      <th>Cabin</th>\n",
       "      <th>Embarked</th>\n",
       "    </tr>\n",
       "  </thead>\n",
       "  <tbody>\n",
       "    <tr>\n",
       "      <th>0</th>\n",
       "      <td>1</td>\n",
       "      <td>0</td>\n",
       "      <td>3</td>\n",
       "      <td>Braund, Mr. Owen Harris</td>\n",
       "      <td>male</td>\n",
       "      <td>22.0</td>\n",
       "      <td>1</td>\n",
       "      <td>0</td>\n",
       "      <td>A/5 21171</td>\n",
       "      <td>7.2500</td>\n",
       "      <td>NaN</td>\n",
       "      <td>S</td>\n",
       "    </tr>\n",
       "    <tr>\n",
       "      <th>1</th>\n",
       "      <td>2</td>\n",
       "      <td>1</td>\n",
       "      <td>1</td>\n",
       "      <td>Cumings, Mrs. John Bradley (Florence Briggs Th...</td>\n",
       "      <td>female</td>\n",
       "      <td>38.0</td>\n",
       "      <td>1</td>\n",
       "      <td>0</td>\n",
       "      <td>PC 17599</td>\n",
       "      <td>71.2833</td>\n",
       "      <td>C85</td>\n",
       "      <td>C</td>\n",
       "    </tr>\n",
       "    <tr>\n",
       "      <th>2</th>\n",
       "      <td>3</td>\n",
       "      <td>1</td>\n",
       "      <td>3</td>\n",
       "      <td>Heikkinen, Miss. Laina</td>\n",
       "      <td>female</td>\n",
       "      <td>26.0</td>\n",
       "      <td>0</td>\n",
       "      <td>0</td>\n",
       "      <td>STON/O2. 3101282</td>\n",
       "      <td>7.9250</td>\n",
       "      <td>NaN</td>\n",
       "      <td>S</td>\n",
       "    </tr>\n",
       "    <tr>\n",
       "      <th>3</th>\n",
       "      <td>4</td>\n",
       "      <td>1</td>\n",
       "      <td>1</td>\n",
       "      <td>Futrelle, Mrs. Jacques Heath (Lily May Peel)</td>\n",
       "      <td>female</td>\n",
       "      <td>35.0</td>\n",
       "      <td>1</td>\n",
       "      <td>0</td>\n",
       "      <td>113803</td>\n",
       "      <td>53.1000</td>\n",
       "      <td>C123</td>\n",
       "      <td>S</td>\n",
       "    </tr>\n",
       "    <tr>\n",
       "      <th>4</th>\n",
       "      <td>5</td>\n",
       "      <td>0</td>\n",
       "      <td>3</td>\n",
       "      <td>Allen, Mr. William Henry</td>\n",
       "      <td>male</td>\n",
       "      <td>35.0</td>\n",
       "      <td>0</td>\n",
       "      <td>0</td>\n",
       "      <td>373450</td>\n",
       "      <td>8.0500</td>\n",
       "      <td>NaN</td>\n",
       "      <td>S</td>\n",
       "    </tr>\n",
       "    <tr>\n",
       "      <th>...</th>\n",
       "      <td>...</td>\n",
       "      <td>...</td>\n",
       "      <td>...</td>\n",
       "      <td>...</td>\n",
       "      <td>...</td>\n",
       "      <td>...</td>\n",
       "      <td>...</td>\n",
       "      <td>...</td>\n",
       "      <td>...</td>\n",
       "      <td>...</td>\n",
       "      <td>...</td>\n",
       "      <td>...</td>\n",
       "    </tr>\n",
       "    <tr>\n",
       "      <th>886</th>\n",
       "      <td>887</td>\n",
       "      <td>0</td>\n",
       "      <td>2</td>\n",
       "      <td>Montvila, Rev. Juozas</td>\n",
       "      <td>male</td>\n",
       "      <td>27.0</td>\n",
       "      <td>0</td>\n",
       "      <td>0</td>\n",
       "      <td>211536</td>\n",
       "      <td>13.0000</td>\n",
       "      <td>NaN</td>\n",
       "      <td>S</td>\n",
       "    </tr>\n",
       "    <tr>\n",
       "      <th>887</th>\n",
       "      <td>888</td>\n",
       "      <td>1</td>\n",
       "      <td>1</td>\n",
       "      <td>Graham, Miss. Margaret Edith</td>\n",
       "      <td>female</td>\n",
       "      <td>19.0</td>\n",
       "      <td>0</td>\n",
       "      <td>0</td>\n",
       "      <td>112053</td>\n",
       "      <td>30.0000</td>\n",
       "      <td>B42</td>\n",
       "      <td>S</td>\n",
       "    </tr>\n",
       "    <tr>\n",
       "      <th>888</th>\n",
       "      <td>889</td>\n",
       "      <td>0</td>\n",
       "      <td>3</td>\n",
       "      <td>Johnston, Miss. Catherine Helen \"Carrie\"</td>\n",
       "      <td>female</td>\n",
       "      <td>NaN</td>\n",
       "      <td>1</td>\n",
       "      <td>2</td>\n",
       "      <td>W./C. 6607</td>\n",
       "      <td>23.4500</td>\n",
       "      <td>NaN</td>\n",
       "      <td>S</td>\n",
       "    </tr>\n",
       "    <tr>\n",
       "      <th>889</th>\n",
       "      <td>890</td>\n",
       "      <td>1</td>\n",
       "      <td>1</td>\n",
       "      <td>Behr, Mr. Karl Howell</td>\n",
       "      <td>male</td>\n",
       "      <td>26.0</td>\n",
       "      <td>0</td>\n",
       "      <td>0</td>\n",
       "      <td>111369</td>\n",
       "      <td>30.0000</td>\n",
       "      <td>C148</td>\n",
       "      <td>C</td>\n",
       "    </tr>\n",
       "    <tr>\n",
       "      <th>890</th>\n",
       "      <td>891</td>\n",
       "      <td>0</td>\n",
       "      <td>3</td>\n",
       "      <td>Dooley, Mr. Patrick</td>\n",
       "      <td>male</td>\n",
       "      <td>32.0</td>\n",
       "      <td>0</td>\n",
       "      <td>0</td>\n",
       "      <td>370376</td>\n",
       "      <td>7.7500</td>\n",
       "      <td>NaN</td>\n",
       "      <td>Q</td>\n",
       "    </tr>\n",
       "  </tbody>\n",
       "</table>\n",
       "<p>891 rows × 12 columns</p>\n",
       "</div>"
      ],
      "text/plain": [
       "     PassengerId  Survived  Pclass  \\\n",
       "0              1         0       3   \n",
       "1              2         1       1   \n",
       "2              3         1       3   \n",
       "3              4         1       1   \n",
       "4              5         0       3   \n",
       "..           ...       ...     ...   \n",
       "886          887         0       2   \n",
       "887          888         1       1   \n",
       "888          889         0       3   \n",
       "889          890         1       1   \n",
       "890          891         0       3   \n",
       "\n",
       "                                                  Name     Sex   Age  SibSp  \\\n",
       "0                              Braund, Mr. Owen Harris    male  22.0      1   \n",
       "1    Cumings, Mrs. John Bradley (Florence Briggs Th...  female  38.0      1   \n",
       "2                               Heikkinen, Miss. Laina  female  26.0      0   \n",
       "3         Futrelle, Mrs. Jacques Heath (Lily May Peel)  female  35.0      1   \n",
       "4                             Allen, Mr. William Henry    male  35.0      0   \n",
       "..                                                 ...     ...   ...    ...   \n",
       "886                              Montvila, Rev. Juozas    male  27.0      0   \n",
       "887                       Graham, Miss. Margaret Edith  female  19.0      0   \n",
       "888           Johnston, Miss. Catherine Helen \"Carrie\"  female   NaN      1   \n",
       "889                              Behr, Mr. Karl Howell    male  26.0      0   \n",
       "890                                Dooley, Mr. Patrick    male  32.0      0   \n",
       "\n",
       "     Parch            Ticket     Fare Cabin Embarked  \n",
       "0        0         A/5 21171   7.2500   NaN        S  \n",
       "1        0          PC 17599  71.2833   C85        C  \n",
       "2        0  STON/O2. 3101282   7.9250   NaN        S  \n",
       "3        0            113803  53.1000  C123        S  \n",
       "4        0            373450   8.0500   NaN        S  \n",
       "..     ...               ...      ...   ...      ...  \n",
       "886      0            211536  13.0000   NaN        S  \n",
       "887      0            112053  30.0000   B42        S  \n",
       "888      2        W./C. 6607  23.4500   NaN        S  \n",
       "889      0            111369  30.0000  C148        C  \n",
       "890      0            370376   7.7500   NaN        Q  \n",
       "\n",
       "[891 rows x 12 columns]"
      ]
     },
     "execution_count": 396,
     "metadata": {},
     "output_type": "execute_result"
    }
   ],
   "source": [
    "df = pd.DataFrame(data)\n",
    "df"
   ]
  },
  {
   "cell_type": "code",
   "execution_count": 397,
   "id": "f832ae9f",
   "metadata": {},
   "outputs": [],
   "source": [
    "df = df.drop(['Name', 'Ticket', 'Cabin'], axis=1)\n",
    "df_test = df_test.drop(['Name', 'Ticket', 'Cabin'], axis=1) "
   ]
  },
  {
   "cell_type": "code",
   "execution_count": 398,
   "id": "d15070a8",
   "metadata": {
    "scrolled": true
   },
   "outputs": [
    {
     "data": {
      "text/plain": [
       "PassengerId      0\n",
       "Survived         0\n",
       "Pclass           0\n",
       "Sex              0\n",
       "Age            177\n",
       "SibSp            0\n",
       "Parch            0\n",
       "Fare             0\n",
       "Embarked         2\n",
       "dtype: int64"
      ]
     },
     "execution_count": 398,
     "metadata": {},
     "output_type": "execute_result"
    }
   ],
   "source": [
    "df.isnull().sum()"
   ]
  },
  {
   "cell_type": "code",
   "execution_count": 364,
   "id": "ddfb70b2",
   "metadata": {},
   "outputs": [
    {
     "data": {
      "text/plain": [
       "count    714.000000\n",
       "mean      29.699118\n",
       "std       14.526497\n",
       "min        0.420000\n",
       "25%       20.125000\n",
       "50%       28.000000\n",
       "75%       38.000000\n",
       "max       80.000000\n",
       "Name: Age, dtype: float64"
      ]
     },
     "execution_count": 364,
     "metadata": {},
     "output_type": "execute_result"
    }
   ],
   "source": [
    "df['Age'].describe()"
   ]
  },
  {
   "cell_type": "code",
   "execution_count": 399,
   "id": "dcc0c577",
   "metadata": {},
   "outputs": [
    {
     "data": {
      "text/plain": [
       "PassengerId    0\n",
       "Survived       0\n",
       "Pclass         0\n",
       "Sex            0\n",
       "Age            0\n",
       "SibSp          0\n",
       "Parch          0\n",
       "Fare           0\n",
       "Embarked       2\n",
       "dtype: int64"
      ]
     },
     "execution_count": 399,
     "metadata": {},
     "output_type": "execute_result"
    }
   ],
   "source": [
    "df['Age'] = df['Age'].fillna(df['Age'].mean())\n",
    "df.isnull().sum()"
   ]
  },
  {
   "cell_type": "code",
   "execution_count": 400,
   "id": "839e2bae",
   "metadata": {
    "scrolled": false
   },
   "outputs": [
    {
     "data": {
      "text/html": [
       "<div>\n",
       "<style scoped>\n",
       "    .dataframe tbody tr th:only-of-type {\n",
       "        vertical-align: middle;\n",
       "    }\n",
       "\n",
       "    .dataframe tbody tr th {\n",
       "        vertical-align: top;\n",
       "    }\n",
       "\n",
       "    .dataframe thead th {\n",
       "        text-align: right;\n",
       "    }\n",
       "</style>\n",
       "<table border=\"1\" class=\"dataframe\">\n",
       "  <thead>\n",
       "    <tr style=\"text-align: right;\">\n",
       "      <th></th>\n",
       "      <th>PassengerId</th>\n",
       "      <th>Survived</th>\n",
       "      <th>Pclass</th>\n",
       "      <th>Sex</th>\n",
       "      <th>Age</th>\n",
       "      <th>SibSp</th>\n",
       "      <th>Parch</th>\n",
       "      <th>Fare</th>\n",
       "      <th>Embarked</th>\n",
       "    </tr>\n",
       "  </thead>\n",
       "  <tbody>\n",
       "    <tr>\n",
       "      <th>0</th>\n",
       "      <td>1</td>\n",
       "      <td>0</td>\n",
       "      <td>3</td>\n",
       "      <td>male</td>\n",
       "      <td>22.000000</td>\n",
       "      <td>1</td>\n",
       "      <td>0</td>\n",
       "      <td>7.2500</td>\n",
       "      <td>S</td>\n",
       "    </tr>\n",
       "    <tr>\n",
       "      <th>1</th>\n",
       "      <td>2</td>\n",
       "      <td>1</td>\n",
       "      <td>1</td>\n",
       "      <td>female</td>\n",
       "      <td>38.000000</td>\n",
       "      <td>1</td>\n",
       "      <td>0</td>\n",
       "      <td>71.2833</td>\n",
       "      <td>C</td>\n",
       "    </tr>\n",
       "    <tr>\n",
       "      <th>2</th>\n",
       "      <td>3</td>\n",
       "      <td>1</td>\n",
       "      <td>3</td>\n",
       "      <td>female</td>\n",
       "      <td>26.000000</td>\n",
       "      <td>0</td>\n",
       "      <td>0</td>\n",
       "      <td>7.9250</td>\n",
       "      <td>S</td>\n",
       "    </tr>\n",
       "    <tr>\n",
       "      <th>3</th>\n",
       "      <td>4</td>\n",
       "      <td>1</td>\n",
       "      <td>1</td>\n",
       "      <td>female</td>\n",
       "      <td>35.000000</td>\n",
       "      <td>1</td>\n",
       "      <td>0</td>\n",
       "      <td>53.1000</td>\n",
       "      <td>S</td>\n",
       "    </tr>\n",
       "    <tr>\n",
       "      <th>4</th>\n",
       "      <td>5</td>\n",
       "      <td>0</td>\n",
       "      <td>3</td>\n",
       "      <td>male</td>\n",
       "      <td>35.000000</td>\n",
       "      <td>0</td>\n",
       "      <td>0</td>\n",
       "      <td>8.0500</td>\n",
       "      <td>S</td>\n",
       "    </tr>\n",
       "    <tr>\n",
       "      <th>...</th>\n",
       "      <td>...</td>\n",
       "      <td>...</td>\n",
       "      <td>...</td>\n",
       "      <td>...</td>\n",
       "      <td>...</td>\n",
       "      <td>...</td>\n",
       "      <td>...</td>\n",
       "      <td>...</td>\n",
       "      <td>...</td>\n",
       "    </tr>\n",
       "    <tr>\n",
       "      <th>886</th>\n",
       "      <td>887</td>\n",
       "      <td>0</td>\n",
       "      <td>2</td>\n",
       "      <td>male</td>\n",
       "      <td>27.000000</td>\n",
       "      <td>0</td>\n",
       "      <td>0</td>\n",
       "      <td>13.0000</td>\n",
       "      <td>S</td>\n",
       "    </tr>\n",
       "    <tr>\n",
       "      <th>887</th>\n",
       "      <td>888</td>\n",
       "      <td>1</td>\n",
       "      <td>1</td>\n",
       "      <td>female</td>\n",
       "      <td>19.000000</td>\n",
       "      <td>0</td>\n",
       "      <td>0</td>\n",
       "      <td>30.0000</td>\n",
       "      <td>S</td>\n",
       "    </tr>\n",
       "    <tr>\n",
       "      <th>888</th>\n",
       "      <td>889</td>\n",
       "      <td>0</td>\n",
       "      <td>3</td>\n",
       "      <td>female</td>\n",
       "      <td>29.699118</td>\n",
       "      <td>1</td>\n",
       "      <td>2</td>\n",
       "      <td>23.4500</td>\n",
       "      <td>S</td>\n",
       "    </tr>\n",
       "    <tr>\n",
       "      <th>889</th>\n",
       "      <td>890</td>\n",
       "      <td>1</td>\n",
       "      <td>1</td>\n",
       "      <td>male</td>\n",
       "      <td>26.000000</td>\n",
       "      <td>0</td>\n",
       "      <td>0</td>\n",
       "      <td>30.0000</td>\n",
       "      <td>C</td>\n",
       "    </tr>\n",
       "    <tr>\n",
       "      <th>890</th>\n",
       "      <td>891</td>\n",
       "      <td>0</td>\n",
       "      <td>3</td>\n",
       "      <td>male</td>\n",
       "      <td>32.000000</td>\n",
       "      <td>0</td>\n",
       "      <td>0</td>\n",
       "      <td>7.7500</td>\n",
       "      <td>Q</td>\n",
       "    </tr>\n",
       "  </tbody>\n",
       "</table>\n",
       "<p>889 rows × 9 columns</p>\n",
       "</div>"
      ],
      "text/plain": [
       "     PassengerId  Survived  Pclass     Sex        Age  SibSp  Parch     Fare  \\\n",
       "0              1         0       3    male  22.000000      1      0   7.2500   \n",
       "1              2         1       1  female  38.000000      1      0  71.2833   \n",
       "2              3         1       3  female  26.000000      0      0   7.9250   \n",
       "3              4         1       1  female  35.000000      1      0  53.1000   \n",
       "4              5         0       3    male  35.000000      0      0   8.0500   \n",
       "..           ...       ...     ...     ...        ...    ...    ...      ...   \n",
       "886          887         0       2    male  27.000000      0      0  13.0000   \n",
       "887          888         1       1  female  19.000000      0      0  30.0000   \n",
       "888          889         0       3  female  29.699118      1      2  23.4500   \n",
       "889          890         1       1    male  26.000000      0      0  30.0000   \n",
       "890          891         0       3    male  32.000000      0      0   7.7500   \n",
       "\n",
       "    Embarked  \n",
       "0          S  \n",
       "1          C  \n",
       "2          S  \n",
       "3          S  \n",
       "4          S  \n",
       "..       ...  \n",
       "886        S  \n",
       "887        S  \n",
       "888        S  \n",
       "889        C  \n",
       "890        Q  \n",
       "\n",
       "[889 rows x 9 columns]"
      ]
     },
     "execution_count": 400,
     "metadata": {},
     "output_type": "execute_result"
    }
   ],
   "source": [
    "df = df.dropna(subset=['Embarked'])\n",
    "df"
   ]
  },
  {
   "cell_type": "code",
   "execution_count": 367,
   "id": "ab38f494",
   "metadata": {},
   "outputs": [
    {
     "data": {
      "text/plain": [
       "PassengerId     0\n",
       "Pclass          0\n",
       "Sex             0\n",
       "Age            86\n",
       "SibSp           0\n",
       "Parch           0\n",
       "Fare            1\n",
       "Embarked        0\n",
       "dtype: int64"
      ]
     },
     "execution_count": 367,
     "metadata": {},
     "output_type": "execute_result"
    }
   ],
   "source": [
    "df_test.isnull().sum()"
   ]
  },
  {
   "cell_type": "code",
   "execution_count": 401,
   "id": "ddd38f75",
   "metadata": {},
   "outputs": [],
   "source": [
    "cols = ['Age', 'Fare']\n",
    "for col in cols:\n",
    "    df_test[col].fillna(df_test[col].median(), inplace=True)"
   ]
  },
  {
   "cell_type": "code",
   "execution_count": 369,
   "id": "ef997955",
   "metadata": {},
   "outputs": [
    {
     "data": {
      "image/png": "[encoded data removed]",
      "text/plain": [
       "<Figure size 432x288 with 1 Axes>"
      ]
     },
     "metadata": {},
     "output_type": "display_data"
    }
   ],
   "source": [
    "sns.set(style='whitegrid')\n",
    "sns.stripplot(data=df, x='Survived', y='Fare')\n",
    "plt.show()"
   ]
  },
  {
   "cell_type": "code",
   "execution_count": 370,
   "id": "99eed614",
   "metadata": {},
   "outputs": [
    {
     "data": {
      "image/png": "[encoded data removed]",
      "text/plain": [
       "<Figure size 432x288 with 1 Axes>"
      ]
     },
     "metadata": {},
     "output_type": "display_data"
    }
   ],
   "source": [
    "sns.kdeplot(data=df, x='Age', hue='Survived')\n",
    "plt.show()"
   ]
  },
  {
   "cell_type": "code",
   "execution_count": 371,
   "id": "5f9706ad",
   "metadata": {},
   "outputs": [
    {
     "data": {
      "image/png": "[encoded data removed]",
      "text/plain": [
       "<Figure size 432x288 with 1 Axes>"
      ]
     },
     "metadata": {},
     "output_type": "display_data"
    }
   ],
   "source": [
    "sns.countplot(data=df, x='Sex', hue='Survived')\n",
    "plt.show()"
   ]
  },
  {
   "cell_type": "code",
   "execution_count": 372,
   "id": "f8da1e84",
   "metadata": {},
   "outputs": [
    {
     "data": {
      "image/png": "[encoded data removed]",
      "text/plain": [
       "<Figure size 432x288 with 1 Axes>"
      ]
     },
     "metadata": {},
     "output_type": "display_data"
    }
   ],
   "source": [
    "sns.countplot(data=df, x='Pclass', hue='Survived')\n",
    "plt.show()"
   ]
  },
  {
   "cell_type": "code",
   "execution_count": 373,
   "id": "9f184e62",
   "metadata": {},
   "outputs": [
    {
     "data": {
      "image/png": "[encoded data removed]",
      "text/plain": [
       "<Figure size 1800x720 with 1 Axes>"
      ]
     },
     "metadata": {},
     "output_type": "display_data"
    }
   ],
   "source": [
    "fig = plt.figure(figsize=(25, 10))\n",
    "sns.violinplot(x='Sex', y='Age',\n",
    "               hue='Survived', data=df,\n",
    "               split=True,\n",
    "               palette={0: 'r', 1: 'g'});"
   ]
  },
  {
   "cell_type": "code",
   "execution_count": 374,
   "id": "a96f7194",
   "metadata": {
    "scrolled": true
   },
   "outputs": [
    {
     "data": {
      "image/png": "[encoded data removed]",
      "text/plain": [
       "<Figure size 1800x504 with 1 Axes>"
      ]
     },
     "metadata": {},
     "output_type": "display_data"
    }
   ],
   "source": [
    "plt.figure(figsize=(25, 7))\n",
    "ax = plt.subplot()\n",
    "\n",
    "ax.scatter(data[data['Survived'] == 1]['Age'], data[data['Survived'] == 1]['Fare'], \n",
    "           c='green', s=data[data['Survived'] == 1]['Fare'])\n",
    "ax.scatter(data[data['Survived'] == 0]['Age'], data[data['Survived'] == 0]['Fare'], \n",
    "           c='red', s=data[data['Survived'] == 0]['Fare']);"
   ]
  },
  {
   "cell_type": "code",
   "execution_count": 375,
   "id": "8ca0a9a0",
   "metadata": {
    "scrolled": false
   },
   "outputs": [
    {
     "data": {
      "text/html": [
       "<div>\n",
       "<style scoped>\n",
       "    .dataframe tbody tr th:only-of-type {\n",
       "        vertical-align: middle;\n",
       "    }\n",
       "\n",
       "    .dataframe tbody tr th {\n",
       "        vertical-align: top;\n",
       "    }\n",
       "\n",
       "    .dataframe thead th {\n",
       "        text-align: right;\n",
       "    }\n",
       "</style>\n",
       "<table border=\"1\" class=\"dataframe\">\n",
       "  <thead>\n",
       "    <tr style=\"text-align: right;\">\n",
       "      <th></th>\n",
       "      <th>Survived</th>\n",
       "      <th>Pclass</th>\n",
       "      <th>Sex</th>\n",
       "      <th>Age</th>\n",
       "      <th>SibSp</th>\n",
       "      <th>Parch</th>\n",
       "      <th>Fare</th>\n",
       "      <th>Embarked</th>\n",
       "    </tr>\n",
       "  </thead>\n",
       "  <tbody>\n",
       "    <tr>\n",
       "      <th>0</th>\n",
       "      <td>0</td>\n",
       "      <td>3</td>\n",
       "      <td>male</td>\n",
       "      <td>22.000000</td>\n",
       "      <td>1</td>\n",
       "      <td>0</td>\n",
       "      <td>7.2500</td>\n",
       "      <td>S</td>\n",
       "    </tr>\n",
       "    <tr>\n",
       "      <th>1</th>\n",
       "      <td>1</td>\n",
       "      <td>1</td>\n",
       "      <td>female</td>\n",
       "      <td>38.000000</td>\n",
       "      <td>1</td>\n",
       "      <td>0</td>\n",
       "      <td>71.2833</td>\n",
       "      <td>C</td>\n",
       "    </tr>\n",
       "    <tr>\n",
       "      <th>2</th>\n",
       "      <td>1</td>\n",
       "      <td>3</td>\n",
       "      <td>female</td>\n",
       "      <td>26.000000</td>\n",
       "      <td>0</td>\n",
       "      <td>0</td>\n",
       "      <td>7.9250</td>\n",
       "      <td>S</td>\n",
       "    </tr>\n",
       "    <tr>\n",
       "      <th>3</th>\n",
       "      <td>1</td>\n",
       "      <td>1</td>\n",
       "      <td>female</td>\n",
       "      <td>35.000000</td>\n",
       "      <td>1</td>\n",
       "      <td>0</td>\n",
       "      <td>53.1000</td>\n",
       "      <td>S</td>\n",
       "    </tr>\n",
       "    <tr>\n",
       "      <th>4</th>\n",
       "      <td>0</td>\n",
       "      <td>3</td>\n",
       "      <td>male</td>\n",
       "      <td>35.000000</td>\n",
       "      <td>0</td>\n",
       "      <td>0</td>\n",
       "      <td>8.0500</td>\n",
       "      <td>S</td>\n",
       "    </tr>\n",
       "    <tr>\n",
       "      <th>...</th>\n",
       "      <td>...</td>\n",
       "      <td>...</td>\n",
       "      <td>...</td>\n",
       "      <td>...</td>\n",
       "      <td>...</td>\n",
       "      <td>...</td>\n",
       "      <td>...</td>\n",
       "      <td>...</td>\n",
       "    </tr>\n",
       "    <tr>\n",
       "      <th>886</th>\n",
       "      <td>0</td>\n",
       "      <td>2</td>\n",
       "      <td>male</td>\n",
       "      <td>27.000000</td>\n",
       "      <td>0</td>\n",
       "      <td>0</td>\n",
       "      <td>13.0000</td>\n",
       "      <td>S</td>\n",
       "    </tr>\n",
       "    <tr>\n",
       "      <th>887</th>\n",
       "      <td>1</td>\n",
       "      <td>1</td>\n",
       "      <td>female</td>\n",
       "      <td>19.000000</td>\n",
       "      <td>0</td>\n",
       "      <td>0</td>\n",
       "      <td>30.0000</td>\n",
       "      <td>S</td>\n",
       "    </tr>\n",
       "    <tr>\n",
       "      <th>888</th>\n",
       "      <td>0</td>\n",
       "      <td>3</td>\n",
       "      <td>female</td>\n",
       "      <td>29.699118</td>\n",
       "      <td>1</td>\n",
       "      <td>2</td>\n",
       "      <td>23.4500</td>\n",
       "      <td>S</td>\n",
       "    </tr>\n",
       "    <tr>\n",
       "      <th>889</th>\n",
       "      <td>1</td>\n",
       "      <td>1</td>\n",
       "      <td>male</td>\n",
       "      <td>26.000000</td>\n",
       "      <td>0</td>\n",
       "      <td>0</td>\n",
       "      <td>30.0000</td>\n",
       "      <td>C</td>\n",
       "    </tr>\n",
       "    <tr>\n",
       "      <th>890</th>\n",
       "      <td>0</td>\n",
       "      <td>3</td>\n",
       "      <td>male</td>\n",
       "      <td>32.000000</td>\n",
       "      <td>0</td>\n",
       "      <td>0</td>\n",
       "      <td>7.7500</td>\n",
       "      <td>Q</td>\n",
       "    </tr>\n",
       "  </tbody>\n",
       "</table>\n",
       "<p>889 rows × 8 columns</p>\n",
       "</div>"
      ],
      "text/plain": [
       "     Survived  Pclass     Sex        Age  SibSp  Parch     Fare Embarked\n",
       "0           0       3    male  22.000000      1      0   7.2500        S\n",
       "1           1       1  female  38.000000      1      0  71.2833        C\n",
       "2           1       3  female  26.000000      0      0   7.9250        S\n",
       "3           1       1  female  35.000000      1      0  53.1000        S\n",
       "4           0       3    male  35.000000      0      0   8.0500        S\n",
       "..        ...     ...     ...        ...    ...    ...      ...      ...\n",
       "886         0       2    male  27.000000      0      0  13.0000        S\n",
       "887         1       1  female  19.000000      0      0  30.0000        S\n",
       "888         0       3  female  29.699118      1      2  23.4500        S\n",
       "889         1       1    male  26.000000      0      0  30.0000        C\n",
       "890         0       3    male  32.000000      0      0   7.7500        Q\n",
       "\n",
       "[889 rows x 8 columns]"
      ]
     },
     "execution_count": 375,
     "metadata": {},
     "output_type": "execute_result"
    }
   ],
   "source": [
    "df"
   ]
  },
  {
   "cell_type": "code",
   "execution_count": 376,
   "id": "8300065e",
   "metadata": {},
   "outputs": [],
   "source": [
    "from sklearn.preprocessing import LabelEncoder\n",
    "encoder = LabelEncoder()"
   ]
  },
  {
   "cell_type": "code",
   "execution_count": 410,
   "id": "bb86a91a",
   "metadata": {},
   "outputs": [],
   "source": [
    "df.iloc[:, 3] = encoder.fit_transform(df.iloc[:, 3].values)\n",
    "df.iloc[:, 8] = encoder.fit_transform(df.iloc[:, 8].values)\n",
    "\n",
    "df_test.iloc[:, 2] = encoder.fit_transform(df_test.iloc[:, 2].values)\n",
    "df_test.iloc[:, 7] = encoder.fit_transform(df_test.iloc[:, 7].values)"
   ]
  },
  {
   "cell_type": "code",
   "execution_count": 411,
   "id": "1ce81e2f",
   "metadata": {},
   "outputs": [
    {
     "data": {
      "text/plain": [
       "PassengerId      int64\n",
       "Survived         int64\n",
       "Pclass           int64\n",
       "Sex              int64\n",
       "Age            float64\n",
       "SibSp            int64\n",
       "Parch            int64\n",
       "Fare             int64\n",
       "Embarked         int32\n",
       "dtype: object"
      ]
     },
     "execution_count": 411,
     "metadata": {},
     "output_type": "execute_result"
    }
   ],
   "source": [
    "df.dtypes"
   ]
  },
  {
   "cell_type": "code",
   "execution_count": 404,
   "id": "f5f6f034",
   "metadata": {},
   "outputs": [],
   "source": [
    "from sklearn.preprocessing import StandardScaler\n",
    "s_scaler = StandardScaler()"
   ]
  },
  {
   "cell_type": "code",
   "execution_count": 405,
   "id": "1e7fa37b",
   "metadata": {},
   "outputs": [],
   "source": [
    "X = df.drop(['Survived'], axis=1)\n",
    "y = df[['Survived']]"
   ]
  },
  {
   "cell_type": "code",
   "execution_count": 440,
   "id": "ce569458",
   "metadata": {},
   "outputs": [],
   "source": [
    "X_scaled = s_scaler.fit_transform(X)"
   ]
  },
  {
   "cell_type": "code",
   "execution_count": 441,
   "id": "bd423032",
   "metadata": {},
   "outputs": [
    {
     "name": "stdout",
     "output_type": "stream",
     "text": [
      "[[-1.73250451  0.82520863  0.73534203 ... -0.47432585 -1.24731347\n",
      "   0.58683958]\n",
      " [-1.72861124 -1.57221121 -1.35991138 ... -0.47432585  1.46177206\n",
      "  -1.93955453]\n",
      " [-1.72471797  0.82520863 -1.35991138 ... -0.47432585 -0.91763639\n",
      "   0.58683958]\n",
      " ...\n",
      " [ 1.72471797  0.82520863 -1.35991138 ...  2.00611934  0.37240433\n",
      "   0.58683958]\n",
      " [ 1.72861124 -1.57221121  0.73534203 ... -0.47432585  0.68774762\n",
      "  -1.93955453]\n",
      " [ 1.73250451  0.82520863  0.73534203 ... -0.47432585 -1.07530804\n",
      "  -0.67635748]]\n"
     ]
    }
   ],
   "source": [
    "print(X_scaled)"
   ]
  },
  {
   "cell_type": "code",
   "execution_count": 442,
   "id": "891fb8a3",
   "metadata": {},
   "outputs": [
    {
     "data": {
      "text/html": [
       "<div>\n",
       "<style scoped>\n",
       "    .dataframe tbody tr th:only-of-type {\n",
       "        vertical-align: middle;\n",
       "    }\n",
       "\n",
       "    .dataframe tbody tr th {\n",
       "        vertical-align: top;\n",
       "    }\n",
       "\n",
       "    .dataframe thead th {\n",
       "        text-align: right;\n",
       "    }\n",
       "</style>\n",
       "<table border=\"1\" class=\"dataframe\">\n",
       "  <thead>\n",
       "    <tr style=\"text-align: right;\">\n",
       "      <th></th>\n",
       "      <th>0</th>\n",
       "      <th>1</th>\n",
       "      <th>2</th>\n",
       "      <th>3</th>\n",
       "      <th>4</th>\n",
       "      <th>5</th>\n",
       "      <th>6</th>\n",
       "      <th>7</th>\n",
       "    </tr>\n",
       "  </thead>\n",
       "  <tbody>\n",
       "    <tr>\n",
       "      <th>0</th>\n",
       "      <td>-1.732505</td>\n",
       "      <td>0.825209</td>\n",
       "      <td>0.735342</td>\n",
       "      <td>-0.590495</td>\n",
       "      <td>0.431350</td>\n",
       "      <td>-0.474326</td>\n",
       "      <td>-1.247313</td>\n",
       "      <td>0.586840</td>\n",
       "    </tr>\n",
       "    <tr>\n",
       "      <th>1</th>\n",
       "      <td>-1.728611</td>\n",
       "      <td>-1.572211</td>\n",
       "      <td>-1.359911</td>\n",
       "      <td>0.643971</td>\n",
       "      <td>0.431350</td>\n",
       "      <td>-0.474326</td>\n",
       "      <td>1.461772</td>\n",
       "      <td>-1.939555</td>\n",
       "    </tr>\n",
       "    <tr>\n",
       "      <th>2</th>\n",
       "      <td>-1.724718</td>\n",
       "      <td>0.825209</td>\n",
       "      <td>-1.359911</td>\n",
       "      <td>-0.281878</td>\n",
       "      <td>-0.475199</td>\n",
       "      <td>-0.474326</td>\n",
       "      <td>-0.917636</td>\n",
       "      <td>0.586840</td>\n",
       "    </tr>\n",
       "    <tr>\n",
       "      <th>3</th>\n",
       "      <td>-1.720825</td>\n",
       "      <td>-1.572211</td>\n",
       "      <td>-1.359911</td>\n",
       "      <td>0.412509</td>\n",
       "      <td>0.431350</td>\n",
       "      <td>-0.474326</td>\n",
       "      <td>1.203764</td>\n",
       "      <td>0.586840</td>\n",
       "    </tr>\n",
       "    <tr>\n",
       "      <th>4</th>\n",
       "      <td>-1.716931</td>\n",
       "      <td>0.825209</td>\n",
       "      <td>0.735342</td>\n",
       "      <td>0.412509</td>\n",
       "      <td>-0.475199</td>\n",
       "      <td>-0.474326</td>\n",
       "      <td>-0.888969</td>\n",
       "      <td>0.586840</td>\n",
       "    </tr>\n",
       "  </tbody>\n",
       "</table>\n",
       "</div>"
      ],
      "text/plain": [
       "          0         1         2         3         4         5         6  \\\n",
       "0 -1.732505  0.825209  0.735342 -0.590495  0.431350 -0.474326 -1.247313   \n",
       "1 -1.728611 -1.572211 -1.359911  0.643971  0.431350 -0.474326  1.461772   \n",
       "2 -1.724718  0.825209 -1.359911 -0.281878 -0.475199 -0.474326 -0.917636   \n",
       "3 -1.720825 -1.572211 -1.359911  0.412509  0.431350 -0.474326  1.203764   \n",
       "4 -1.716931  0.825209  0.735342  0.412509 -0.475199 -0.474326 -0.888969   \n",
       "\n",
       "          7  \n",
       "0  0.586840  \n",
       "1 -1.939555  \n",
       "2  0.586840  \n",
       "3  0.586840  \n",
       "4  0.586840  "
      ]
     },
     "execution_count": 442,
     "metadata": {},
     "output_type": "execute_result"
    }
   ],
   "source": [
    "X_scaled_df = pd.DataFrame(X_scaled)\n",
    "X_scaled_df.head()"
   ]
  },
  {
   "cell_type": "markdown",
   "id": "255755a1",
   "metadata": {},
   "source": [
    "# PREPARATIONS"
   ]
  },
  {
   "cell_type": "code",
   "execution_count": 443,
   "id": "705eb114",
   "metadata": {},
   "outputs": [],
   "source": [
    "from sklearn.model_selection import train_test_split\n",
    "from sklearn.metrics import classification_report, confusion_matrix\n",
    "from sklearn import metrics\n",
    "from sklearn.model_selection import GridSearchCV\n",
    "from sklearn.model_selection import cross_val_score, cross_validate\n",
    "\n",
    "X_train, X_test, y_train, y_test = train_test_split(X_scaled, y, test_size=0.2, random_state = 42)"
   ]
  },
  {
   "cell_type": "code",
   "execution_count": 444,
   "id": "dcf0758d",
   "metadata": {},
   "outputs": [
    {
     "name": "stdout",
     "output_type": "stream",
     "text": [
      "Total number of rows and columns for the complete dataset:  (889, 8) (889,)\n"
     ]
    }
   ],
   "source": [
    "print('Total number of rows and columns for the complete dataset: ', X_scaled.shape, y.shape)"
   ]
  },
  {
   "cell_type": "markdown",
   "id": "8366b6e9",
   "metadata": {},
   "source": [
    "# LOGISTIC REGRESSION\n"
   ]
  },
  {
   "cell_type": "code",
   "execution_count": 445,
   "id": "d8b77cad",
   "metadata": {},
   "outputs": [
    {
     "name": "stdout",
     "output_type": "stream",
     "text": [
      "Fitting 5 folds for each of 30 candidates, totalling 150 fits\n"
     ]
    },
    {
     "data": {
      "text/plain": [
       "GridSearchCV(cv=5, estimator=LogisticRegression(), n_jobs=-1,\n",
       "             param_grid={'class_weight': ['balanced'],\n",
       "                         'max_iter': [20, 50, 100, 200, 500, 1000],\n",
       "                         'solver': ['newton-cg', 'lbfgs', 'liblinear', 'sag',\n",
       "                                    'saga']},\n",
       "             verbose=1)"
      ]
     },
     "execution_count": 445,
     "metadata": {},
     "output_type": "execute_result"
    }
   ],
   "source": [
    "from sklearn.linear_model import LogisticRegression\n",
    "logreg = LogisticRegression()\n",
    "\n",
    "\n",
    "param_grid_lr = {\n",
    "    'max_iter': [20, 50, 100, 200, 500, 1000],                      \n",
    "    'solver': ['newton-cg', 'lbfgs', 'liblinear', 'sag', 'saga'],   \n",
    "    'class_weight': ['balanced']}\n",
    "\n",
    "\n",
    "logregCV = GridSearchCV(estimator=logreg, \n",
    "                      param_grid=param_grid_lr, verbose=1, cv=5, n_jobs=-1)\n",
    "\n",
    "logregCV.fit(X_train, y_train)"
   ]
  },
  {
   "cell_type": "code",
   "execution_count": 446,
   "id": "a20b9b44",
   "metadata": {},
   "outputs": [
    {
     "data": {
      "text/plain": [
       "{'class_weight': 'balanced', 'max_iter': 20, 'solver': 'newton-cg'}"
      ]
     },
     "execution_count": 446,
     "metadata": {},
     "output_type": "execute_result"
    }
   ],
   "source": [
    "logregCV.best_params_"
   ]
  },
  {
   "cell_type": "code",
   "execution_count": 447,
   "id": "2a3ef189",
   "metadata": {},
   "outputs": [],
   "source": [
    "logregCV = LogisticRegression(class_weight='balanced', max_iter=20, solver='newton-cg')\n",
    "logregCV.fit(X_train, y_train)\n",
    "\n",
    "logreg_redict = logregCV.predict(X_test)\n",
    "\n",
    "logreg_redict_acc = metrics.accuracy_score(y_test, logreg_redict)\n",
    "logreg_redict_precc = metrics.precision_score(y_test, logreg_redict)\n",
    "logreg_redict_recall = metrics.recall_score(y_test, logreg_redict)\n",
    "logreg_redict_f1 = metrics.f1_score(y_test, logreg_redict)"
   ]
  },
  {
   "cell_type": "code",
   "execution_count": 448,
   "id": "f59b642e",
   "metadata": {},
   "outputs": [
    {
     "name": "stdout",
     "output_type": "stream",
     "text": [
      "              precision    recall  f1-score   support\n",
      "\n",
      "           0       0.87      0.74      0.80       109\n",
      "           1       0.67      0.83      0.74        69\n",
      "\n",
      "    accuracy                           0.78       178\n",
      "   macro avg       0.77      0.78      0.77       178\n",
      "weighted avg       0.79      0.78      0.78       178\n",
      "\n",
      "[[81 28]\n",
      " [12 57]]\n"
     ]
    }
   ],
   "source": [
    "print(classification_report(y_test, logreg_redict))\n",
    "print(metrics.confusion_matrix(y_test, logreg_redict))"
   ]
  },
  {
   "cell_type": "code",
   "execution_count": 449,
   "id": "a3432c74",
   "metadata": {},
   "outputs": [
    {
     "data": {
      "image/png": "[encoded data removed]",
      "text/plain": [
       "<Figure size 1080x720 with 2 Axes>"
      ]
     },
     "metadata": {},
     "output_type": "display_data"
    }
   ],
   "source": [
    "fig = plt.figure(figsize=(15, 10))\n",
    "conf_mat = confusion_matrix(y_test, logreg_redict)\n",
    "sns.heatmap(conf_mat, annot=True, fmt='g', cmap='mako');"
   ]
  },
  {
   "cell_type": "code",
   "execution_count": 450,
   "id": "8ef6fcc7",
   "metadata": {},
   "outputs": [
    {
     "name": "stdout",
     "output_type": "stream",
     "text": [
      "0.7752808988764045\n"
     ]
    }
   ],
   "source": [
    "print(metrics.accuracy_score(y_test, logreg_redict))"
   ]
  },
  {
   "cell_type": "markdown",
   "id": "739c6da6",
   "metadata": {},
   "source": [
    "# K-NN"
   ]
  },
  {
   "cell_type": "code",
   "execution_count": 451,
   "id": "404a3bc4",
   "metadata": {},
   "outputs": [
    {
     "name": "stdout",
     "output_type": "stream",
     "text": [
      "Fitting 5 folds for each of 2842 candidates, totalling 14210 fits\n"
     ]
    },
    {
     "data": {
      "text/plain": [
       "GridSearchCV(cv=5, estimator=KNeighborsClassifier(), n_jobs=-1,\n",
       "             param_grid={'leaf_size': [1, 2, 3, 4, 5, 6, 7, 8, 9, 10, 11, 12,\n",
       "                                       13, 14, 15, 16, 17, 18, 19, 20, 21, 22,\n",
       "                                       23, 24, 25, 26, 27, 28, 29, 30, ...],\n",
       "                         'n_neighbors': [1, 2, 3, 4, 5, 6, 7, 8, 9, 10, 11, 12,\n",
       "                                         13, 14, 15, 16, 17, 18, 19, 20, 21, 22,\n",
       "                                         23, 24, 25, 26, 27, 28, 29],\n",
       "                         'p': [1, 2]},\n",
       "             verbose=1)"
      ]
     },
     "execution_count": 451,
     "metadata": {},
     "output_type": "execute_result"
    }
   ],
   "source": [
    "from sklearn.neighbors import KNeighborsClassifier\n",
    "k_nn = KNeighborsClassifier()\n",
    "\n",
    "param_grid_lr = {\n",
    "    'leaf_size': [range(1, 50)],                      \n",
    "    'n_neighbors': [range(1, 30)],   \n",
    "    'p': (1, 2)}\n",
    "\n",
    "\n",
    "k_nn_CV = GridSearchCV(estimator=k_nn, \n",
    "                      param_grid=param_grid, verbose=1, cv=5, n_jobs=-1)\n",
    "\n",
    "k_nn_CV.fit(X_train, y_train)"
   ]
  },
  {
   "cell_type": "code",
   "execution_count": 452,
   "id": "f69da811",
   "metadata": {},
   "outputs": [
    {
     "data": {
      "text/plain": [
       "{'leaf_size': 1, 'n_neighbors': 8, 'p': 2}"
      ]
     },
     "execution_count": 452,
     "metadata": {},
     "output_type": "execute_result"
    }
   ],
   "source": [
    "k_nn_CV.best_params_"
   ]
  },
  {
   "cell_type": "code",
   "execution_count": 453,
   "id": "e8723279",
   "metadata": {},
   "outputs": [],
   "source": [
    "k_nn = KNeighborsClassifier(leaf_size=1, n_neighbors=5, p=1)\n",
    "k_nn.fit(X_train, y_train)\n",
    "\n",
    "k_nn_predict = k_nn.predict(X_test)\n",
    "\n",
    "k_nn_predict_acc = metrics.accuracy_score(y_test, k_nn_predict)\n",
    "k_nn_predict_precc = metrics.precision_score(y_test, k_nn_predict)\n",
    "k_nn_predict_recall = metrics.recall_score(y_test, k_nn_predict)\n",
    "k_nn_predict_f1 = metrics.f1_score(y_test, k_nn_predict)"
   ]
  },
  {
   "cell_type": "code",
   "execution_count": 454,
   "id": "744f4bf8",
   "metadata": {},
   "outputs": [
    {
     "name": "stdout",
     "output_type": "stream",
     "text": [
      "              precision    recall  f1-score   support\n",
      "\n",
      "           0       0.84      0.82      0.83       109\n",
      "           1       0.72      0.75      0.74        69\n",
      "\n",
      "    accuracy                           0.79       178\n",
      "   macro avg       0.78      0.79      0.78       178\n",
      "weighted avg       0.79      0.79      0.79       178\n",
      "\n",
      "[[89 20]\n",
      " [17 52]]\n"
     ]
    }
   ],
   "source": [
    "print(classification_report(y_test, k_nn_predict))\n",
    "print(metrics.confusion_matrix(y_test, k_nn_predict))"
   ]
  },
  {
   "cell_type": "code",
   "execution_count": 455,
   "id": "60f6f1d5",
   "metadata": {},
   "outputs": [
    {
     "data": {
      "image/png": "[encoded data removed]",
      "text/plain": [
       "<Figure size 1080x720 with 2 Axes>"
      ]
     },
     "metadata": {},
     "output_type": "display_data"
    }
   ],
   "source": [
    "fig = plt.figure(figsize=(15, 10))\n",
    "conf_mat = confusion_matrix(y_test, k_nn_predict)\n",
    "sns.heatmap(conf_mat, annot=True, fmt='g', cmap='mako');"
   ]
  },
  {
   "cell_type": "code",
   "execution_count": 456,
   "id": "ee675573",
   "metadata": {},
   "outputs": [
    {
     "name": "stdout",
     "output_type": "stream",
     "text": [
      "0.7921348314606742\n"
     ]
    }
   ],
   "source": [
    "print(metrics.accuracy_score(y_test, k_nn_predict))"
   ]
  },
  {
   "cell_type": "markdown",
   "id": "facd2c63",
   "metadata": {},
   "source": [
    "# SVM"
   ]
  },
  {
   "cell_type": "code",
   "execution_count": 459,
   "id": "c4ad2035",
   "metadata": {
    "scrolled": true
   },
   "outputs": [
    {
     "data": {
      "text/plain": [
       "SVC(C=1, gamma=0.1)"
      ]
     },
     "execution_count": 459,
     "metadata": {},
     "output_type": "execute_result"
    }
   ],
   "source": [
    "from sklearn.svm import SVC\n",
    "svm = SVC(C=1, gamma=0.1, kernel='rbf')\n",
    "svm.fit(X_train, y_train)"
   ]
  },
  {
   "cell_type": "code",
   "execution_count": 460,
   "id": "0c20d237",
   "metadata": {},
   "outputs": [
    {
     "name": "stdout",
     "output_type": "stream",
     "text": [
      "              precision    recall  f1-score   support\n",
      "\n",
      "           0       0.86      0.83      0.85       109\n",
      "           1       0.75      0.78      0.77        69\n",
      "\n",
      "    accuracy                           0.81       178\n",
      "   macro avg       0.80      0.81      0.81       178\n",
      "weighted avg       0.82      0.81      0.82       178\n",
      "\n",
      "[[91 18]\n",
      " [15 54]]\n"
     ]
    }
   ],
   "source": [
    "svm_res = svm.predict(X_test)\n",
    "\n",
    "svm_res_acc = metrics.accuracy_score(y_test, svm_res)\n",
    "svm_res_precc = metrics.precision_score(y_test, svm_res)\n",
    "svm_res_recall = metrics.recall_score(y_test, svm_res)\n",
    "svm_res_f1 = metrics.f1_score(y_test, svm_res)\n",
    "\n",
    "print(classification_report(y_test, svm_res))\n",
    "print(metrics.confusion_matrix(y_test, svm_res))"
   ]
  },
  {
   "cell_type": "code",
   "execution_count": 461,
   "id": "d5ecc50d",
   "metadata": {},
   "outputs": [
    {
     "data": {
      "image/png": "[encoded data removed]",
      "text/plain": [
       "<Figure size 1080x720 with 2 Axes>"
      ]
     },
     "metadata": {},
     "output_type": "display_data"
    }
   ],
   "source": [
    "fig = plt.figure(figsize=(15, 10))\n",
    "conf_mat = confusion_matrix(y_test, svm_res)\n",
    "sns.heatmap(conf_mat, annot=True, fmt='g', cmap='mako');"
   ]
  },
  {
   "cell_type": "code",
   "execution_count": 462,
   "id": "1aead52f",
   "metadata": {},
   "outputs": [
    {
     "name": "stdout",
     "output_type": "stream",
     "text": [
      "0.75\n"
     ]
    }
   ],
   "source": [
    "print(metrics.precision_score(y_test, svm_res))"
   ]
  },
  {
   "cell_type": "markdown",
   "id": "2fb7e2c6",
   "metadata": {},
   "source": [
    "# NAIVE BAYESS"
   ]
  },
  {
   "cell_type": "code",
   "execution_count": 463,
   "id": "cdacde6d",
   "metadata": {},
   "outputs": [
    {
     "data": {
      "text/plain": [
       "GaussianNB()"
      ]
     },
     "execution_count": 463,
     "metadata": {},
     "output_type": "execute_result"
    }
   ],
   "source": [
    "from sklearn.naive_bayes import GaussianNB\n",
    "\n",
    "bay = GaussianNB()\n",
    "bay.fit(X_train, y_train)"
   ]
  },
  {
   "cell_type": "code",
   "execution_count": 464,
   "id": "5af3ee12",
   "metadata": {},
   "outputs": [
    {
     "name": "stdout",
     "output_type": "stream",
     "text": [
      "0.7735583684950773\n",
      "0.7528089887640449\n"
     ]
    }
   ],
   "source": [
    "print(bay.score(X_train, y_train))\n",
    "print(bay.score(X_test, y_test))"
   ]
  },
  {
   "cell_type": "code",
   "execution_count": 465,
   "id": "306e7557",
   "metadata": {},
   "outputs": [
    {
     "name": "stdout",
     "output_type": "stream",
     "text": [
      "[0.84415584 0.77922078 0.79220779 0.81818182 0.57142857 0.87012987\n",
      " 0.83116883 0.96103896 0.72727273 0.7       ] 0.7894805194805194\n",
      "[0.88888889 0.66666667 0.66666667 0.83333333 0.61111111 0.72222222\n",
      " 0.83333333 0.94444444 0.58823529 0.58823529] 0.7343137254901959\n"
     ]
    }
   ],
   "source": [
    "cross_val_bay = cross_validate(bay, X_test, y_test, cv=10,\n",
    "                               scoring=('roc_auc', 'accuracy'),\n",
    "                               return_train_score=True)\n",
    "\n",
    "print(cross_val_bay['test_roc_auc'], np.mean(cross_val_bay['test_roc_auc']))\n",
    "print(cross_val_bay['test_accuracy'], np.mean(cross_val_bay['test_accuracy']))"
   ]
  },
  {
   "cell_type": "code",
   "execution_count": 466,
   "id": "c3b9441d",
   "metadata": {},
   "outputs": [
    {
     "name": "stdout",
     "output_type": "stream",
     "text": [
      "              precision    recall  f1-score   support\n",
      "\n",
      "           0       0.86      0.72      0.78       109\n",
      "           1       0.64      0.81      0.72        69\n",
      "\n",
      "    accuracy                           0.75       178\n",
      "   macro avg       0.75      0.76      0.75       178\n",
      "weighted avg       0.77      0.75      0.76       178\n",
      "\n",
      "[[78 31]\n",
      " [13 56]]\n"
     ]
    }
   ],
   "source": [
    "bay_res = bay.predict(X_test)\n",
    "\n",
    "bay_res_acc = metrics.accuracy_score(y_test, bay_res)\n",
    "bay_res_precc = metrics.precision_score(y_test, bay_res)\n",
    "bay_res_recall = metrics.recall_score(y_test, bay_res)\n",
    "bay_res_f1 = metrics.f1_score(y_test, bay_res)\n",
    "\n",
    "print(classification_report(y_test, bay_res))\n",
    "print(metrics.confusion_matrix(y_test, bay_res))"
   ]
  },
  {
   "cell_type": "code",
   "execution_count": 467,
   "id": "e90ca45f",
   "metadata": {},
   "outputs": [
    {
     "data": {
      "image/png": "[encoded data removed]",
      "text/plain": [
       "<Figure size 1080x720 with 2 Axes>"
      ]
     },
     "metadata": {},
     "output_type": "display_data"
    }
   ],
   "source": [
    "fig = plt.figure(figsize=(15, 10))\n",
    "conf_mat = confusion_matrix(y_test, bay_res)\n",
    "sns.heatmap(conf_mat, annot=True, fmt='g', cmap='mako');"
   ]
  },
  {
   "cell_type": "markdown",
   "id": "b25bcebe",
   "metadata": {},
   "source": [
    "# DECISION TREE"
   ]
  },
  {
   "cell_type": "code",
   "execution_count": 468,
   "id": "440eba93",
   "metadata": {},
   "outputs": [
    {
     "data": {
      "text/plain": [
       "DecisionTreeClassifier()"
      ]
     },
     "execution_count": 468,
     "metadata": {},
     "output_type": "execute_result"
    }
   ],
   "source": [
    "from sklearn.tree import DecisionTreeClassifier\n",
    "tree = DecisionTreeClassifier()\n",
    "\n",
    "tree.fit(X_train, y_train)"
   ]
  },
  {
   "cell_type": "code",
   "execution_count": 469,
   "id": "e311cc9b",
   "metadata": {
    "scrolled": true
   },
   "outputs": [
    {
     "name": "stdout",
     "output_type": "stream",
     "text": [
      "1.0\n",
      "0.7303370786516854\n"
     ]
    }
   ],
   "source": [
    "print(tree.score(X_train, y_train))\n",
    "print(tree.score(X_test, y_test))"
   ]
  },
  {
   "cell_type": "code",
   "execution_count": 470,
   "id": "937d62e4",
   "metadata": {},
   "outputs": [
    {
     "name": "stdout",
     "output_type": "stream",
     "text": [
      "[0.88311688 0.62337662 0.67532468 0.64935065 0.57792208 0.85714286\n",
      " 0.86363636 0.6038961  0.60606061 0.73571429] 0.7075541125541125\n",
      "[0.88888889 0.66666667 0.66666667 0.66666667 0.61111111 0.88888889\n",
      " 0.83333333 0.61111111 0.58823529 0.76470588] 0.718627450980392\n"
     ]
    }
   ],
   "source": [
    "cross_val_tree = cross_validate(tree, X_test, y_test, cv=10,\n",
    "                               scoring=('roc_auc', 'accuracy'),\n",
    "                               return_train_score=True)\n",
    "\n",
    "print(cross_val_tree['test_roc_auc'], np.mean(cross_val_tree['test_roc_auc']))\n",
    "print(cross_val_tree['test_accuracy'], np.mean(cross_val_tree['test_accuracy']))"
   ]
  },
  {
   "cell_type": "code",
   "execution_count": 471,
   "id": "c866bfca",
   "metadata": {},
   "outputs": [
    {
     "name": "stdout",
     "output_type": "stream",
     "text": [
      "              precision    recall  f1-score   support\n",
      "\n",
      "           0       0.81      0.73      0.77       109\n",
      "           1       0.63      0.72      0.68        69\n",
      "\n",
      "    accuracy                           0.73       178\n",
      "   macro avg       0.72      0.73      0.72       178\n",
      "weighted avg       0.74      0.73      0.73       178\n",
      "\n",
      "[[80 29]\n",
      " [19 50]]\n"
     ]
    }
   ],
   "source": [
    "tree_res = tree.predict(X_test)\n",
    "\n",
    "tree_res_acc = metrics.accuracy_score(y_test, tree_res)\n",
    "tree_res_precc = metrics.precision_score(y_test, tree_res)\n",
    "tree_res_recall = metrics.recall_score(y_test, tree_res)\n",
    "tree_res_f1 = metrics.f1_score(y_test, tree_res)\n",
    "\n",
    "print(classification_report(y_test, tree_res))\n",
    "print(metrics.confusion_matrix(y_test, tree_res))"
   ]
  },
  {
   "cell_type": "code",
   "execution_count": 472,
   "id": "fdf9965c",
   "metadata": {},
   "outputs": [
    {
     "data": {
      "image/png": "[encoded data removed]",
      "text/plain": [
       "<Figure size 1080x720 with 2 Axes>"
      ]
     },
     "metadata": {},
     "output_type": "display_data"
    }
   ],
   "source": [
    "fig = plt.figure(figsize=(15, 10))\n",
    "conf_mat = confusion_matrix(y_test, tree_res)\n",
    "sns.heatmap(conf_mat, annot=True, fmt='g', cmap='mako');"
   ]
  },
  {
   "cell_type": "markdown",
   "id": "4fd63872",
   "metadata": {},
   "source": [
    "# RANDOM FOREST"
   ]
  },
  {
   "cell_type": "code",
   "execution_count": 474,
   "id": "22b7cdb7",
   "metadata": {
    "scrolled": true
   },
   "outputs": [
    {
     "name": "stdout",
     "output_type": "stream",
     "text": [
      "Fitting 3 folds for each of 200 candidates, totalling 600 fits\n",
      "[CV 1/3] END ....criterion=gini, n_estimators=1;, score=0.713 total time=   0.0s\n",
      "[CV 2/3] END ....criterion=gini, n_estimators=1;, score=0.768 total time=   0.0s\n",
      "[CV 3/3] END ....criterion=gini, n_estimators=1;, score=0.709 total time=   0.0s\n",
      "[CV 1/3] END ...criterion=gini, n_estimators=11;, score=0.810 total time=   0.0s\n",
      "[CV 2/3] END ...criterion=gini, n_estimators=11;, score=0.772 total time=   0.0s\n",
      "[CV 3/3] END ...criterion=gini, n_estimators=11;, score=0.793 total time=   0.0s\n",
      "[CV 1/3] END ...criterion=gini, n_estimators=21;, score=0.827 total time=   0.0s\n",
      "[CV 2/3] END ...criterion=gini, n_estimators=21;, score=0.835 total time=   0.0s\n",
      "[CV 3/3] END ...criterion=gini, n_estimators=21;, score=0.793 total time=   0.0s\n",
      "[CV 1/3] END ...criterion=gini, n_estimators=31;, score=0.823 total time=   0.0s\n",
      "[CV 2/3] END ...criterion=gini, n_estimators=31;, score=0.848 total time=   0.0s\n",
      "[CV 3/3] END ...criterion=gini, n_estimators=31;, score=0.785 total time=   0.0s\n",
      "[CV 1/3] END ...criterion=gini, n_estimators=41;, score=0.810 total time=   0.0s\n",
      "[CV 2/3] END ...criterion=gini, n_estimators=41;, score=0.848 total time=   0.0s\n",
      "[CV 3/3] END ...criterion=gini, n_estimators=41;, score=0.823 total time=   0.0s\n",
      "[CV 1/3] END ...criterion=gini, n_estimators=51;, score=0.819 total time=   0.0s\n",
      "[CV 2/3] END ...criterion=gini, n_estimators=51;, score=0.861 total time=   0.0s\n",
      "[CV 3/3] END ...criterion=gini, n_estimators=51;, score=0.810 total time=   0.0s\n",
      "[CV 1/3] END ...criterion=gini, n_estimators=61;, score=0.819 total time=   0.0s\n",
      "[CV 2/3] END ...criterion=gini, n_estimators=61;, score=0.844 total time=   0.0s\n",
      "[CV 3/3] END ...criterion=gini, n_estimators=61;, score=0.814 total time=   0.0s\n",
      "[CV 1/3] END ...criterion=gini, n_estimators=71;, score=0.814 total time=   0.0s\n",
      "[CV 2/3] END ...criterion=gini, n_estimators=71;, score=0.857 total time=   0.0s\n",
      "[CV 3/3] END ...criterion=gini, n_estimators=71;, score=0.819 total time=   0.0s\n",
      "[CV 1/3] END ...criterion=gini, n_estimators=81;, score=0.814 total time=   0.0s\n",
      "[CV 2/3] END ...criterion=gini, n_estimators=81;, score=0.857 total time=   0.0s\n",
      "[CV 3/3] END ...criterion=gini, n_estimators=81;, score=0.814 total time=   0.0s\n",
      "[CV 1/3] END ...criterion=gini, n_estimators=91;, score=0.810 total time=   0.0s\n",
      "[CV 2/3] END ...criterion=gini, n_estimators=91;, score=0.852 total time=   0.0s\n",
      "[CV 3/3] END ...criterion=gini, n_estimators=91;, score=0.789 total time=   0.0s\n",
      "[CV 1/3] END ..criterion=gini, n_estimators=101;, score=0.823 total time=   0.0s\n",
      "[CV 2/3] END ..criterion=gini, n_estimators=101;, score=0.840 total time=   0.0s\n",
      "[CV 3/3] END ..criterion=gini, n_estimators=101;, score=0.806 total time=   0.0s\n",
      "[CV 1/3] END ..criterion=gini, n_estimators=111;, score=0.823 total time=   0.0s\n",
      "[CV 2/3] END ..criterion=gini, n_estimators=111;, score=0.835 total time=   0.0s\n",
      "[CV 3/3] END ..criterion=gini, n_estimators=111;, score=0.810 total time=   0.0s\n",
      "[CV 1/3] END ..criterion=gini, n_estimators=121;, score=0.793 total time=   0.0s\n",
      "[CV 2/3] END ..criterion=gini, n_estimators=121;, score=0.869 total time=   0.0s\n",
      "[CV 3/3] END ..criterion=gini, n_estimators=121;, score=0.814 total time=   0.0s\n",
      "[CV 1/3] END ..criterion=gini, n_estimators=131;, score=0.819 total time=   0.1s\n",
      "[CV 2/3] END ..criterion=gini, n_estimators=131;, score=0.852 total time=   0.0s\n",
      "[CV 3/3] END ..criterion=gini, n_estimators=131;, score=0.802 total time=   0.0s\n",
      "[CV 1/3] END ..criterion=gini, n_estimators=141;, score=0.823 total time=   0.0s\n",
      "[CV 2/3] END ..criterion=gini, n_estimators=141;, score=0.861 total time=   0.1s\n",
      "[CV 3/3] END ..criterion=gini, n_estimators=141;, score=0.806 total time=   0.1s\n",
      "[CV 1/3] END ..criterion=gini, n_estimators=151;, score=0.827 total time=   0.1s\n",
      "[CV 2/3] END ..criterion=gini, n_estimators=151;, score=0.844 total time=   0.1s\n",
      "[CV 3/3] END ..criterion=gini, n_estimators=151;, score=0.814 total time=   0.0s\n",
      "[CV 1/3] END ..criterion=gini, n_estimators=161;, score=0.802 total time=   0.1s\n",
      "[CV 2/3] END ..criterion=gini, n_estimators=161;, score=0.835 total time=   0.1s\n",
      "[CV 3/3] END ..criterion=gini, n_estimators=161;, score=0.797 total time=   0.1s\n",
      "[CV 1/3] END ..criterion=gini, n_estimators=171;, score=0.819 total time=   0.1s\n",
      "[CV 2/3] END ..criterion=gini, n_estimators=171;, score=0.844 total time=   0.1s\n",
      "[CV 3/3] END ..criterion=gini, n_estimators=171;, score=0.810 total time=   0.1s\n",
      "[CV 1/3] END ..criterion=gini, n_estimators=181;, score=0.802 total time=   0.1s\n",
      "[CV 2/3] END ..criterion=gini, n_estimators=181;, score=0.840 total time=   0.1s\n",
      "[CV 3/3] END ..criterion=gini, n_estimators=181;, score=0.810 total time=   0.1s\n",
      "[CV 1/3] END ..criterion=gini, n_estimators=191;, score=0.810 total time=   0.1s\n",
      "[CV 2/3] END ..criterion=gini, n_estimators=191;, score=0.844 total time=   0.1s\n",
      "[CV 3/3] END ..criterion=gini, n_estimators=191;, score=0.802 total time=   0.1s\n",
      "[CV 1/3] END ..criterion=gini, n_estimators=201;, score=0.819 total time=   0.1s\n",
      "[CV 2/3] END ..criterion=gini, n_estimators=201;, score=0.848 total time=   0.1s\n",
      "[CV 3/3] END ..criterion=gini, n_estimators=201;, score=0.823 total time=   0.1s\n",
      "[CV 1/3] END ..criterion=gini, n_estimators=211;, score=0.806 total time=   0.1s\n",
      "[CV 2/3] END ..criterion=gini, n_estimators=211;, score=0.835 total time=   0.1s\n",
      "[CV 3/3] END ..criterion=gini, n_estimators=211;, score=0.814 total time=   0.1s\n",
      "[CV 1/3] END ..criterion=gini, n_estimators=221;, score=0.819 total time=   0.1s\n",
      "[CV 2/3] END ..criterion=gini, n_estimators=221;, score=0.844 total time=   0.1s\n",
      "[CV 3/3] END ..criterion=gini, n_estimators=221;, score=0.802 total time=   0.1s\n",
      "[CV 1/3] END ..criterion=gini, n_estimators=231;, score=0.814 total time=   0.2s\n",
      "[CV 2/3] END ..criterion=gini, n_estimators=231;, score=0.848 total time=   0.1s\n",
      "[CV 3/3] END ..criterion=gini, n_estimators=231;, score=0.814 total time=   0.1s\n",
      "[CV 1/3] END ..criterion=gini, n_estimators=241;, score=0.831 total time=   0.2s\n",
      "[CV 2/3] END ..criterion=gini, n_estimators=241;, score=0.857 total time=   0.2s\n",
      "[CV 3/3] END ..criterion=gini, n_estimators=241;, score=0.806 total time=   0.2s\n",
      "[CV 1/3] END ..criterion=gini, n_estimators=251;, score=0.810 total time=   0.2s\n",
      "[CV 2/3] END ..criterion=gini, n_estimators=251;, score=0.844 total time=   0.2s\n",
      "[CV 3/3] END ..criterion=gini, n_estimators=251;, score=0.797 total time=   0.2s\n",
      "[CV 1/3] END ..criterion=gini, n_estimators=261;, score=0.827 total time=   0.2s\n",
      "[CV 2/3] END ..criterion=gini, n_estimators=261;, score=0.848 total time=   0.2s\n",
      "[CV 3/3] END ..criterion=gini, n_estimators=261;, score=0.814 total time=   0.2s\n",
      "[CV 1/3] END ..criterion=gini, n_estimators=271;, score=0.823 total time=   0.2s\n",
      "[CV 2/3] END ..criterion=gini, n_estimators=271;, score=0.844 total time=   0.2s\n",
      "[CV 3/3] END ..criterion=gini, n_estimators=271;, score=0.810 total time=   0.2s\n",
      "[CV 1/3] END ..criterion=gini, n_estimators=281;, score=0.823 total time=   0.2s\n",
      "[CV 2/3] END ..criterion=gini, n_estimators=281;, score=0.844 total time=   0.2s\n",
      "[CV 3/3] END ..criterion=gini, n_estimators=281;, score=0.823 total time=   0.2s\n",
      "[CV 1/3] END ..criterion=gini, n_estimators=291;, score=0.823 total time=   0.2s\n",
      "[CV 2/3] END ..criterion=gini, n_estimators=291;, score=0.852 total time=   0.2s\n",
      "[CV 3/3] END ..criterion=gini, n_estimators=291;, score=0.814 total time=   0.2s\n",
      "[CV 1/3] END ..criterion=gini, n_estimators=301;, score=0.814 total time=   0.2s\n",
      "[CV 2/3] END ..criterion=gini, n_estimators=301;, score=0.844 total time=   0.2s\n",
      "[CV 3/3] END ..criterion=gini, n_estimators=301;, score=0.802 total time=   0.2s\n",
      "[CV 1/3] END ..criterion=gini, n_estimators=311;, score=0.806 total time=   0.2s\n",
      "[CV 2/3] END ..criterion=gini, n_estimators=311;, score=0.852 total time=   0.3s\n",
      "[CV 3/3] END ..criterion=gini, n_estimators=311;, score=0.797 total time=   0.2s\n",
      "[CV 1/3] END ..criterion=gini, n_estimators=321;, score=0.810 total time=   0.3s\n",
      "[CV 2/3] END ..criterion=gini, n_estimators=321;, score=0.844 total time=   0.2s\n",
      "[CV 3/3] END ..criterion=gini, n_estimators=321;, score=0.806 total time=   0.2s\n",
      "[CV 1/3] END ..criterion=gini, n_estimators=331;, score=0.819 total time=   0.2s\n",
      "[CV 2/3] END ..criterion=gini, n_estimators=331;, score=0.848 total time=   0.3s\n"
     ]
    },
    {
     "name": "stdout",
     "output_type": "stream",
     "text": [
      "[CV 3/3] END ..criterion=gini, n_estimators=331;, score=0.810 total time=   0.2s\n",
      "[CV 1/3] END ..criterion=gini, n_estimators=341;, score=0.819 total time=   0.3s\n",
      "[CV 2/3] END ..criterion=gini, n_estimators=341;, score=0.852 total time=   0.3s\n",
      "[CV 3/3] END ..criterion=gini, n_estimators=341;, score=0.814 total time=   0.3s\n",
      "[CV 1/3] END ..criterion=gini, n_estimators=351;, score=0.814 total time=   0.3s\n",
      "[CV 2/3] END ..criterion=gini, n_estimators=351;, score=0.827 total time=   0.3s\n",
      "[CV 3/3] END ..criterion=gini, n_estimators=351;, score=0.797 total time=   0.3s\n",
      "[CV 1/3] END ..criterion=gini, n_estimators=361;, score=0.806 total time=   0.3s\n",
      "[CV 2/3] END ..criterion=gini, n_estimators=361;, score=0.844 total time=   0.3s\n",
      "[CV 3/3] END ..criterion=gini, n_estimators=361;, score=0.810 total time=   0.3s\n",
      "[CV 1/3] END ..criterion=gini, n_estimators=371;, score=0.819 total time=   0.3s\n",
      "[CV 2/3] END ..criterion=gini, n_estimators=371;, score=0.848 total time=   0.3s\n",
      "[CV 3/3] END ..criterion=gini, n_estimators=371;, score=0.819 total time=   0.3s\n",
      "[CV 1/3] END ..criterion=gini, n_estimators=381;, score=0.819 total time=   0.3s\n",
      "[CV 2/3] END ..criterion=gini, n_estimators=381;, score=0.848 total time=   0.3s\n",
      "[CV 3/3] END ..criterion=gini, n_estimators=381;, score=0.814 total time=   0.3s\n",
      "[CV 1/3] END ..criterion=gini, n_estimators=391;, score=0.823 total time=   0.3s\n",
      "[CV 2/3] END ..criterion=gini, n_estimators=391;, score=0.857 total time=   0.3s\n",
      "[CV 3/3] END ..criterion=gini, n_estimators=391;, score=0.810 total time=   0.3s\n",
      "[CV 1/3] END ..criterion=gini, n_estimators=401;, score=0.814 total time=   0.3s\n",
      "[CV 2/3] END ..criterion=gini, n_estimators=401;, score=0.844 total time=   0.3s\n",
      "[CV 3/3] END ..criterion=gini, n_estimators=401;, score=0.819 total time=   0.3s\n",
      "[CV 1/3] END ..criterion=gini, n_estimators=411;, score=0.806 total time=   0.3s\n",
      "[CV 2/3] END ..criterion=gini, n_estimators=411;, score=0.852 total time=   0.4s\n",
      "[CV 3/3] END ..criterion=gini, n_estimators=411;, score=0.810 total time=   0.3s\n",
      "[CV 1/3] END ..criterion=gini, n_estimators=421;, score=0.806 total time=   0.4s\n",
      "[CV 2/3] END ..criterion=gini, n_estimators=421;, score=0.844 total time=   0.3s\n",
      "[CV 3/3] END ..criterion=gini, n_estimators=421;, score=0.810 total time=   0.4s\n",
      "[CV 1/3] END ..criterion=gini, n_estimators=431;, score=0.814 total time=   0.4s\n",
      "[CV 2/3] END ..criterion=gini, n_estimators=431;, score=0.835 total time=   0.4s\n",
      "[CV 3/3] END ..criterion=gini, n_estimators=431;, score=0.823 total time=   0.4s\n",
      "[CV 1/3] END ..criterion=gini, n_estimators=441;, score=0.810 total time=   0.4s\n",
      "[CV 2/3] END ..criterion=gini, n_estimators=441;, score=0.852 total time=   0.4s\n",
      "[CV 3/3] END ..criterion=gini, n_estimators=441;, score=0.823 total time=   0.4s\n",
      "[CV 1/3] END ..criterion=gini, n_estimators=451;, score=0.814 total time=   0.4s\n",
      "[CV 2/3] END ..criterion=gini, n_estimators=451;, score=0.848 total time=   0.4s\n",
      "[CV 3/3] END ..criterion=gini, n_estimators=451;, score=0.814 total time=   0.4s\n",
      "[CV 1/3] END ..criterion=gini, n_estimators=461;, score=0.823 total time=   0.4s\n",
      "[CV 2/3] END ..criterion=gini, n_estimators=461;, score=0.852 total time=   0.4s\n",
      "[CV 3/3] END ..criterion=gini, n_estimators=461;, score=0.806 total time=   0.4s\n",
      "[CV 1/3] END ..criterion=gini, n_estimators=471;, score=0.810 total time=   0.4s\n",
      "[CV 2/3] END ..criterion=gini, n_estimators=471;, score=0.840 total time=   0.4s\n",
      "[CV 3/3] END ..criterion=gini, n_estimators=471;, score=0.810 total time=   0.4s\n",
      "[CV 1/3] END ..criterion=gini, n_estimators=481;, score=0.814 total time=   0.4s\n",
      "[CV 2/3] END ..criterion=gini, n_estimators=481;, score=0.840 total time=   0.4s\n",
      "[CV 3/3] END ..criterion=gini, n_estimators=481;, score=0.810 total time=   0.4s\n",
      "[CV 1/3] END ..criterion=gini, n_estimators=491;, score=0.823 total time=   0.4s\n",
      "[CV 2/3] END ..criterion=gini, n_estimators=491;, score=0.840 total time=   0.5s\n",
      "[CV 3/3] END ..criterion=gini, n_estimators=491;, score=0.819 total time=   0.5s\n",
      "[CV 1/3] END ..criterion=gini, n_estimators=501;, score=0.814 total time=   0.6s\n",
      "[CV 2/3] END ..criterion=gini, n_estimators=501;, score=0.848 total time=   0.6s\n",
      "[CV 3/3] END ..criterion=gini, n_estimators=501;, score=0.814 total time=   0.7s\n",
      "[CV 1/3] END ..criterion=gini, n_estimators=511;, score=0.823 total time=   0.6s\n",
      "[CV 2/3] END ..criterion=gini, n_estimators=511;, score=0.835 total time=   0.5s\n",
      "[CV 3/3] END ..criterion=gini, n_estimators=511;, score=0.819 total time=   0.5s\n",
      "[CV 1/3] END ..criterion=gini, n_estimators=521;, score=0.814 total time=   0.7s\n",
      "[CV 2/3] END ..criterion=gini, n_estimators=521;, score=0.857 total time=   0.6s\n",
      "[CV 3/3] END ..criterion=gini, n_estimators=521;, score=0.806 total time=   0.5s\n",
      "[CV 1/3] END ..criterion=gini, n_estimators=531;, score=0.814 total time=   0.5s\n",
      "[CV 2/3] END ..criterion=gini, n_estimators=531;, score=0.852 total time=   0.5s\n",
      "[CV 3/3] END ..criterion=gini, n_estimators=531;, score=0.823 total time=   0.6s\n",
      "[CV 1/3] END ..criterion=gini, n_estimators=541;, score=0.814 total time=   0.8s\n",
      "[CV 2/3] END ..criterion=gini, n_estimators=541;, score=0.857 total time=   0.6s\n",
      "[CV 3/3] END ..criterion=gini, n_estimators=541;, score=0.806 total time=   0.6s\n",
      "[CV 1/3] END ..criterion=gini, n_estimators=551;, score=0.835 total time=   0.6s\n",
      "[CV 2/3] END ..criterion=gini, n_estimators=551;, score=0.835 total time=   0.7s\n",
      "[CV 3/3] END ..criterion=gini, n_estimators=551;, score=0.802 total time=   0.6s\n",
      "[CV 1/3] END ..criterion=gini, n_estimators=561;, score=0.823 total time=   0.5s\n",
      "[CV 2/3] END ..criterion=gini, n_estimators=561;, score=0.852 total time=   0.7s\n",
      "[CV 3/3] END ..criterion=gini, n_estimators=561;, score=0.814 total time=   0.6s\n",
      "[CV 1/3] END ..criterion=gini, n_estimators=571;, score=0.810 total time=   0.5s\n",
      "[CV 2/3] END ..criterion=gini, n_estimators=571;, score=0.848 total time=   0.5s\n",
      "[CV 3/3] END ..criterion=gini, n_estimators=571;, score=0.802 total time=   0.7s\n",
      "[CV 1/3] END ..criterion=gini, n_estimators=581;, score=0.823 total time=   0.7s\n",
      "[CV 2/3] END ..criterion=gini, n_estimators=581;, score=0.848 total time=   0.6s\n",
      "[CV 3/3] END ..criterion=gini, n_estimators=581;, score=0.810 total time=   0.6s\n",
      "[CV 1/3] END ..criterion=gini, n_estimators=591;, score=0.819 total time=   0.6s\n",
      "[CV 2/3] END ..criterion=gini, n_estimators=591;, score=0.844 total time=   0.7s\n",
      "[CV 3/3] END ..criterion=gini, n_estimators=591;, score=0.823 total time=   0.6s\n",
      "[CV 1/3] END ..criterion=gini, n_estimators=601;, score=0.814 total time=   0.6s\n",
      "[CV 2/3] END ..criterion=gini, n_estimators=601;, score=0.857 total time=   0.6s\n",
      "[CV 3/3] END ..criterion=gini, n_estimators=601;, score=0.814 total time=   0.6s\n",
      "[CV 1/3] END ..criterion=gini, n_estimators=611;, score=0.814 total time=   0.6s\n",
      "[CV 2/3] END ..criterion=gini, n_estimators=611;, score=0.840 total time=   0.6s\n",
      "[CV 3/3] END ..criterion=gini, n_estimators=611;, score=0.806 total time=   0.6s\n",
      "[CV 1/3] END ..criterion=gini, n_estimators=621;, score=0.823 total time=   0.7s\n",
      "[CV 2/3] END ..criterion=gini, n_estimators=621;, score=0.840 total time=   0.6s\n",
      "[CV 3/3] END ..criterion=gini, n_estimators=621;, score=0.814 total time=   0.6s\n",
      "[CV 1/3] END ..criterion=gini, n_estimators=631;, score=0.827 total time=   0.6s\n",
      "[CV 2/3] END ..criterion=gini, n_estimators=631;, score=0.848 total time=   0.7s\n",
      "[CV 3/3] END ..criterion=gini, n_estimators=631;, score=0.806 total time=   0.6s\n",
      "[CV 1/3] END ..criterion=gini, n_estimators=641;, score=0.814 total time=   0.6s\n",
      "[CV 2/3] END ..criterion=gini, n_estimators=641;, score=0.852 total time=   0.7s\n",
      "[CV 3/3] END ..criterion=gini, n_estimators=641;, score=0.810 total time=   0.7s\n",
      "[CV 1/3] END ..criterion=gini, n_estimators=651;, score=0.823 total time=   0.7s\n",
      "[CV 2/3] END ..criterion=gini, n_estimators=651;, score=0.857 total time=   0.6s\n",
      "[CV 3/3] END ..criterion=gini, n_estimators=651;, score=0.802 total time=   0.7s\n",
      "[CV 1/3] END ..criterion=gini, n_estimators=661;, score=0.814 total time=   0.6s\n",
      "[CV 2/3] END ..criterion=gini, n_estimators=661;, score=0.852 total time=   0.6s\n",
      "[CV 3/3] END ..criterion=gini, n_estimators=661;, score=0.810 total time=   0.6s\n",
      "[CV 1/3] END ..criterion=gini, n_estimators=671;, score=0.814 total time=   0.7s\n",
      "[CV 2/3] END ..criterion=gini, n_estimators=671;, score=0.857 total time=   0.7s\n"
     ]
    },
    {
     "name": "stdout",
     "output_type": "stream",
     "text": [
      "[CV 3/3] END ..criterion=gini, n_estimators=671;, score=0.810 total time=   1.0s\n",
      "[CV 1/3] END ..criterion=gini, n_estimators=681;, score=0.831 total time=   1.0s\n",
      "[CV 2/3] END ..criterion=gini, n_estimators=681;, score=0.844 total time=   1.0s\n",
      "[CV 3/3] END ..criterion=gini, n_estimators=681;, score=0.806 total time=   0.9s\n",
      "[CV 1/3] END ..criterion=gini, n_estimators=691;, score=0.814 total time=   0.9s\n",
      "[CV 2/3] END ..criterion=gini, n_estimators=691;, score=0.848 total time=   0.9s\n",
      "[CV 3/3] END ..criterion=gini, n_estimators=691;, score=0.802 total time=   0.9s\n",
      "[CV 1/3] END ..criterion=gini, n_estimators=701;, score=0.831 total time=   0.9s\n",
      "[CV 2/3] END ..criterion=gini, n_estimators=701;, score=0.848 total time=   0.8s\n",
      "[CV 3/3] END ..criterion=gini, n_estimators=701;, score=0.810 total time=   0.7s\n",
      "[CV 1/3] END ..criterion=gini, n_estimators=711;, score=0.823 total time=   0.7s\n",
      "[CV 2/3] END ..criterion=gini, n_estimators=711;, score=0.844 total time=   0.7s\n",
      "[CV 3/3] END ..criterion=gini, n_estimators=711;, score=0.810 total time=   0.7s\n",
      "[CV 1/3] END ..criterion=gini, n_estimators=721;, score=0.814 total time=   0.7s\n",
      "[CV 2/3] END ..criterion=gini, n_estimators=721;, score=0.848 total time=   0.7s\n",
      "[CV 3/3] END ..criterion=gini, n_estimators=721;, score=0.806 total time=   1.2s\n",
      "[CV 1/3] END ..criterion=gini, n_estimators=731;, score=0.814 total time=   0.7s\n",
      "[CV 2/3] END ..criterion=gini, n_estimators=731;, score=0.852 total time=   0.7s\n",
      "[CV 3/3] END ..criterion=gini, n_estimators=731;, score=0.814 total time=   0.7s\n",
      "[CV 1/3] END ..criterion=gini, n_estimators=741;, score=0.819 total time=   0.7s\n",
      "[CV 2/3] END ..criterion=gini, n_estimators=741;, score=0.848 total time=   0.7s\n",
      "[CV 3/3] END ..criterion=gini, n_estimators=741;, score=0.810 total time=   0.7s\n",
      "[CV 1/3] END ..criterion=gini, n_estimators=751;, score=0.819 total time=   0.7s\n",
      "[CV 2/3] END ..criterion=gini, n_estimators=751;, score=0.852 total time=   0.7s\n",
      "[CV 3/3] END ..criterion=gini, n_estimators=751;, score=0.810 total time=   0.7s\n",
      "[CV 1/3] END ..criterion=gini, n_estimators=761;, score=0.814 total time=   0.7s\n",
      "[CV 2/3] END ..criterion=gini, n_estimators=761;, score=0.857 total time=   0.7s\n",
      "[CV 3/3] END ..criterion=gini, n_estimators=761;, score=0.810 total time=   0.7s\n",
      "[CV 1/3] END ..criterion=gini, n_estimators=771;, score=0.819 total time=   0.7s\n",
      "[CV 2/3] END ..criterion=gini, n_estimators=771;, score=0.852 total time=   0.7s\n",
      "[CV 3/3] END ..criterion=gini, n_estimators=771;, score=0.806 total time=   0.7s\n",
      "[CV 1/3] END ..criterion=gini, n_estimators=781;, score=0.814 total time=   0.7s\n",
      "[CV 2/3] END ..criterion=gini, n_estimators=781;, score=0.848 total time=   0.7s\n",
      "[CV 3/3] END ..criterion=gini, n_estimators=781;, score=0.814 total time=   0.8s\n",
      "[CV 1/3] END ..criterion=gini, n_estimators=791;, score=0.814 total time=   0.8s\n",
      "[CV 2/3] END ..criterion=gini, n_estimators=791;, score=0.848 total time=   0.8s\n",
      "[CV 3/3] END ..criterion=gini, n_estimators=791;, score=0.806 total time=   0.8s\n",
      "[CV 1/3] END ..criterion=gini, n_estimators=801;, score=0.819 total time=   0.8s\n",
      "[CV 2/3] END ..criterion=gini, n_estimators=801;, score=0.840 total time=   0.8s\n",
      "[CV 3/3] END ..criterion=gini, n_estimators=801;, score=0.819 total time=   0.8s\n",
      "[CV 1/3] END ..criterion=gini, n_estimators=811;, score=0.819 total time=   0.8s\n",
      "[CV 2/3] END ..criterion=gini, n_estimators=811;, score=0.848 total time=   0.8s\n",
      "[CV 3/3] END ..criterion=gini, n_estimators=811;, score=0.814 total time=   0.8s\n",
      "[CV 1/3] END ..criterion=gini, n_estimators=821;, score=0.810 total time=   0.8s\n",
      "[CV 2/3] END ..criterion=gini, n_estimators=821;, score=0.852 total time=   0.8s\n",
      "[CV 3/3] END ..criterion=gini, n_estimators=821;, score=0.819 total time=   0.8s\n",
      "[CV 1/3] END ..criterion=gini, n_estimators=831;, score=0.806 total time=   0.8s\n",
      "[CV 2/3] END ..criterion=gini, n_estimators=831;, score=0.848 total time=   0.8s\n",
      "[CV 3/3] END ..criterion=gini, n_estimators=831;, score=0.819 total time=   0.8s\n",
      "[CV 1/3] END ..criterion=gini, n_estimators=841;, score=0.810 total time=   0.8s\n",
      "[CV 2/3] END ..criterion=gini, n_estimators=841;, score=0.852 total time=   0.8s\n",
      "[CV 3/3] END ..criterion=gini, n_estimators=841;, score=0.810 total time=   0.8s\n",
      "[CV 1/3] END ..criterion=gini, n_estimators=851;, score=0.819 total time=   0.8s\n",
      "[CV 2/3] END ..criterion=gini, n_estimators=851;, score=0.852 total time=   0.8s\n",
      "[CV 3/3] END ..criterion=gini, n_estimators=851;, score=0.819 total time=   0.8s\n",
      "[CV 1/3] END ..criterion=gini, n_estimators=861;, score=0.814 total time=   0.9s\n",
      "[CV 2/3] END ..criterion=gini, n_estimators=861;, score=0.844 total time=   1.0s\n",
      "[CV 3/3] END ..criterion=gini, n_estimators=861;, score=0.810 total time=   1.0s\n",
      "[CV 1/3] END ..criterion=gini, n_estimators=871;, score=0.827 total time=   0.9s\n",
      "[CV 2/3] END ..criterion=gini, n_estimators=871;, score=0.844 total time=   0.9s\n",
      "[CV 3/3] END ..criterion=gini, n_estimators=871;, score=0.810 total time=   0.9s\n",
      "[CV 1/3] END ..criterion=gini, n_estimators=881;, score=0.806 total time=   1.1s\n",
      "[CV 2/3] END ..criterion=gini, n_estimators=881;, score=0.848 total time=   0.9s\n",
      "[CV 3/3] END ..criterion=gini, n_estimators=881;, score=0.802 total time=   1.1s\n",
      "[CV 1/3] END ..criterion=gini, n_estimators=891;, score=0.814 total time=   0.9s\n",
      "[CV 2/3] END ..criterion=gini, n_estimators=891;, score=0.848 total time=   0.9s\n",
      "[CV 3/3] END ..criterion=gini, n_estimators=891;, score=0.814 total time=   0.9s\n",
      "[CV 1/3] END ..criterion=gini, n_estimators=901;, score=0.819 total time=   0.9s\n",
      "[CV 2/3] END ..criterion=gini, n_estimators=901;, score=0.852 total time=   0.9s\n",
      "[CV 3/3] END ..criterion=gini, n_estimators=901;, score=0.806 total time=   0.9s\n",
      "[CV 1/3] END ..criterion=gini, n_estimators=911;, score=0.827 total time=   0.9s\n",
      "[CV 2/3] END ..criterion=gini, n_estimators=911;, score=0.848 total time=   0.9s\n",
      "[CV 3/3] END ..criterion=gini, n_estimators=911;, score=0.810 total time=   0.9s\n",
      "[CV 1/3] END ..criterion=gini, n_estimators=921;, score=0.814 total time=   1.0s\n",
      "[CV 2/3] END ..criterion=gini, n_estimators=921;, score=0.848 total time=   1.0s\n",
      "[CV 3/3] END ..criterion=gini, n_estimators=921;, score=0.802 total time=   1.0s\n",
      "[CV 1/3] END ..criterion=gini, n_estimators=931;, score=0.819 total time=   1.0s\n",
      "[CV 2/3] END ..criterion=gini, n_estimators=931;, score=0.835 total time=   1.0s\n",
      "[CV 3/3] END ..criterion=gini, n_estimators=931;, score=0.810 total time=   1.1s\n",
      "[CV 1/3] END ..criterion=gini, n_estimators=941;, score=0.814 total time=   1.0s\n",
      "[CV 2/3] END ..criterion=gini, n_estimators=941;, score=0.848 total time=   1.1s\n",
      "[CV 3/3] END ..criterion=gini, n_estimators=941;, score=0.810 total time=   3.2s\n",
      "[CV 1/3] END ..criterion=gini, n_estimators=951;, score=0.819 total time=   2.0s\n",
      "[CV 2/3] END ..criterion=gini, n_estimators=951;, score=0.844 total time=   2.6s\n",
      "[CV 3/3] END ..criterion=gini, n_estimators=951;, score=0.810 total time=   1.4s\n",
      "[CV 1/3] END ..criterion=gini, n_estimators=961;, score=0.814 total time=   1.4s\n",
      "[CV 2/3] END ..criterion=gini, n_estimators=961;, score=0.844 total time=   1.4s\n",
      "[CV 3/3] END ..criterion=gini, n_estimators=961;, score=0.810 total time=   1.4s\n",
      "[CV 1/3] END ..criterion=gini, n_estimators=971;, score=0.819 total time=   1.4s\n",
      "[CV 2/3] END ..criterion=gini, n_estimators=971;, score=0.852 total time=   1.4s\n",
      "[CV 3/3] END ..criterion=gini, n_estimators=971;, score=0.810 total time=   1.4s\n",
      "[CV 1/3] END ..criterion=gini, n_estimators=981;, score=0.814 total time=   1.3s\n",
      "[CV 2/3] END ..criterion=gini, n_estimators=981;, score=0.852 total time=   1.3s\n",
      "[CV 3/3] END ..criterion=gini, n_estimators=981;, score=0.814 total time=   1.3s\n",
      "[CV 1/3] END ..criterion=gini, n_estimators=991;, score=0.823 total time=   1.3s\n",
      "[CV 2/3] END ..criterion=gini, n_estimators=991;, score=0.844 total time=   1.4s\n",
      "[CV 3/3] END ..criterion=gini, n_estimators=991;, score=0.806 total time=   1.3s\n",
      "[CV 1/3] END .criterion=entropy, n_estimators=1;, score=0.684 total time=   0.0s\n",
      "[CV 2/3] END .criterion=entropy, n_estimators=1;, score=0.722 total time=   0.0s\n",
      "[CV 3/3] END .criterion=entropy, n_estimators=1;, score=0.747 total time=   0.0s\n",
      "[CV 1/3] END criterion=entropy, n_estimators=11;, score=0.806 total time=   0.0s\n",
      "[CV 2/3] END criterion=entropy, n_estimators=11;, score=0.844 total time=   0.0s\n",
      "[CV 3/3] END criterion=entropy, n_estimators=11;, score=0.797 total time=   0.0s\n",
      "[CV 1/3] END criterion=entropy, n_estimators=21;, score=0.797 total time=   0.0s\n",
      "[CV 2/3] END criterion=entropy, n_estimators=21;, score=0.857 total time=   0.0s\n",
      "[CV 3/3] END criterion=entropy, n_estimators=21;, score=0.806 total time=   0.0s\n"
     ]
    },
    {
     "name": "stdout",
     "output_type": "stream",
     "text": [
      "[CV 1/3] END criterion=entropy, n_estimators=31;, score=0.810 total time=   0.0s\n",
      "[CV 2/3] END criterion=entropy, n_estimators=31;, score=0.844 total time=   0.0s\n",
      "[CV 3/3] END criterion=entropy, n_estimators=31;, score=0.806 total time=   0.0s\n",
      "[CV 1/3] END criterion=entropy, n_estimators=41;, score=0.827 total time=   0.0s\n",
      "[CV 2/3] END criterion=entropy, n_estimators=41;, score=0.848 total time=   0.0s\n",
      "[CV 3/3] END criterion=entropy, n_estimators=41;, score=0.814 total time=   0.0s\n",
      "[CV 1/3] END criterion=entropy, n_estimators=51;, score=0.823 total time=   0.0s\n",
      "[CV 2/3] END criterion=entropy, n_estimators=51;, score=0.857 total time=   0.0s\n",
      "[CV 3/3] END criterion=entropy, n_estimators=51;, score=0.827 total time=   0.0s\n",
      "[CV 1/3] END criterion=entropy, n_estimators=61;, score=0.827 total time=   0.0s\n",
      "[CV 2/3] END criterion=entropy, n_estimators=61;, score=0.848 total time=   0.0s\n",
      "[CV 3/3] END criterion=entropy, n_estimators=61;, score=0.819 total time=   0.0s\n",
      "[CV 1/3] END criterion=entropy, n_estimators=71;, score=0.814 total time=   0.0s\n",
      "[CV 2/3] END criterion=entropy, n_estimators=71;, score=0.848 total time=   0.0s\n",
      "[CV 3/3] END criterion=entropy, n_estimators=71;, score=0.802 total time=   0.0s\n",
      "[CV 1/3] END criterion=entropy, n_estimators=81;, score=0.814 total time=   0.0s\n",
      "[CV 2/3] END criterion=entropy, n_estimators=81;, score=0.861 total time=   0.0s\n",
      "[CV 3/3] END criterion=entropy, n_estimators=81;, score=0.802 total time=   0.0s\n",
      "[CV 1/3] END criterion=entropy, n_estimators=91;, score=0.827 total time=   0.0s\n",
      "[CV 2/3] END criterion=entropy, n_estimators=91;, score=0.852 total time=   0.1s\n",
      "[CV 3/3] END criterion=entropy, n_estimators=91;, score=0.802 total time=   0.0s\n",
      "[CV 1/3] END criterion=entropy, n_estimators=101;, score=0.819 total time=   0.1s\n",
      "[CV 2/3] END criterion=entropy, n_estimators=101;, score=0.848 total time=   0.1s\n",
      "[CV 3/3] END criterion=entropy, n_estimators=101;, score=0.823 total time=   0.1s\n",
      "[CV 1/3] END criterion=entropy, n_estimators=111;, score=0.827 total time=   0.1s\n",
      "[CV 2/3] END criterion=entropy, n_estimators=111;, score=0.865 total time=   0.1s\n",
      "[CV 3/3] END criterion=entropy, n_estimators=111;, score=0.831 total time=   0.1s\n",
      "[CV 1/3] END criterion=entropy, n_estimators=121;, score=0.802 total time=   0.1s\n",
      "[CV 2/3] END criterion=entropy, n_estimators=121;, score=0.848 total time=   0.1s\n",
      "[CV 3/3] END criterion=entropy, n_estimators=121;, score=0.806 total time=   0.1s\n",
      "[CV 1/3] END criterion=entropy, n_estimators=131;, score=0.810 total time=   0.1s\n",
      "[CV 2/3] END criterion=entropy, n_estimators=131;, score=0.840 total time=   0.1s\n",
      "[CV 3/3] END criterion=entropy, n_estimators=131;, score=0.806 total time=   0.1s\n",
      "[CV 1/3] END criterion=entropy, n_estimators=141;, score=0.819 total time=   0.1s\n",
      "[CV 2/3] END criterion=entropy, n_estimators=141;, score=0.844 total time=   0.1s\n",
      "[CV 3/3] END criterion=entropy, n_estimators=141;, score=0.806 total time=   0.1s\n",
      "[CV 1/3] END criterion=entropy, n_estimators=151;, score=0.819 total time=   0.2s\n",
      "[CV 2/3] END criterion=entropy, n_estimators=151;, score=0.857 total time=   0.1s\n",
      "[CV 3/3] END criterion=entropy, n_estimators=151;, score=0.806 total time=   0.2s\n",
      "[CV 1/3] END criterion=entropy, n_estimators=161;, score=0.823 total time=   0.2s\n",
      "[CV 2/3] END criterion=entropy, n_estimators=161;, score=0.848 total time=   0.2s\n",
      "[CV 3/3] END criterion=entropy, n_estimators=161;, score=0.819 total time=   0.1s\n",
      "[CV 1/3] END criterion=entropy, n_estimators=171;, score=0.823 total time=   0.2s\n",
      "[CV 2/3] END criterion=entropy, n_estimators=171;, score=0.869 total time=   0.2s\n",
      "[CV 3/3] END criterion=entropy, n_estimators=171;, score=0.810 total time=   0.1s\n",
      "[CV 1/3] END criterion=entropy, n_estimators=181;, score=0.823 total time=   0.2s\n",
      "[CV 2/3] END criterion=entropy, n_estimators=181;, score=0.848 total time=   0.2s\n",
      "[CV 3/3] END criterion=entropy, n_estimators=181;, score=0.797 total time=   0.2s\n",
      "[CV 1/3] END criterion=entropy, n_estimators=191;, score=0.814 total time=   0.2s\n",
      "[CV 2/3] END criterion=entropy, n_estimators=191;, score=0.848 total time=   0.2s\n",
      "[CV 3/3] END criterion=entropy, n_estimators=191;, score=0.810 total time=   0.2s\n",
      "[CV 1/3] END criterion=entropy, n_estimators=201;, score=0.823 total time=   0.2s\n",
      "[CV 2/3] END criterion=entropy, n_estimators=201;, score=0.852 total time=   0.2s\n",
      "[CV 3/3] END criterion=entropy, n_estimators=201;, score=0.810 total time=   0.2s\n",
      "[CV 1/3] END criterion=entropy, n_estimators=211;, score=0.819 total time=   0.2s\n",
      "[CV 2/3] END criterion=entropy, n_estimators=211;, score=0.852 total time=   0.2s\n",
      "[CV 3/3] END criterion=entropy, n_estimators=211;, score=0.810 total time=   0.2s\n",
      "[CV 1/3] END criterion=entropy, n_estimators=221;, score=0.814 total time=   0.2s\n",
      "[CV 2/3] END criterion=entropy, n_estimators=221;, score=0.852 total time=   0.2s\n",
      "[CV 3/3] END criterion=entropy, n_estimators=221;, score=0.797 total time=   0.3s\n",
      "[CV 1/3] END criterion=entropy, n_estimators=231;, score=0.810 total time=   0.2s\n",
      "[CV 2/3] END criterion=entropy, n_estimators=231;, score=0.848 total time=   0.2s\n",
      "[CV 3/3] END criterion=entropy, n_estimators=231;, score=0.797 total time=   0.3s\n",
      "[CV 1/3] END criterion=entropy, n_estimators=241;, score=0.806 total time=   0.3s\n",
      "[CV 2/3] END criterion=entropy, n_estimators=241;, score=0.852 total time=   0.3s\n",
      "[CV 3/3] END criterion=entropy, n_estimators=241;, score=0.810 total time=   0.2s\n",
      "[CV 1/3] END criterion=entropy, n_estimators=251;, score=0.827 total time=   0.3s\n",
      "[CV 2/3] END criterion=entropy, n_estimators=251;, score=0.848 total time=   0.3s\n",
      "[CV 3/3] END criterion=entropy, n_estimators=251;, score=0.819 total time=   0.3s\n",
      "[CV 1/3] END criterion=entropy, n_estimators=261;, score=0.819 total time=   0.3s\n",
      "[CV 2/3] END criterion=entropy, n_estimators=261;, score=0.848 total time=   0.3s\n",
      "[CV 3/3] END criterion=entropy, n_estimators=261;, score=0.797 total time=   0.3s\n",
      "[CV 1/3] END criterion=entropy, n_estimators=271;, score=0.819 total time=   0.3s\n",
      "[CV 2/3] END criterion=entropy, n_estimators=271;, score=0.844 total time=   0.3s\n",
      "[CV 3/3] END criterion=entropy, n_estimators=271;, score=0.810 total time=   0.3s\n",
      "[CV 1/3] END criterion=entropy, n_estimators=281;, score=0.819 total time=   0.3s\n",
      "[CV 2/3] END criterion=entropy, n_estimators=281;, score=0.848 total time=   0.3s\n",
      "[CV 3/3] END criterion=entropy, n_estimators=281;, score=0.819 total time=   0.3s\n",
      "[CV 1/3] END criterion=entropy, n_estimators=291;, score=0.810 total time=   0.3s\n",
      "[CV 2/3] END criterion=entropy, n_estimators=291;, score=0.844 total time=   0.3s\n",
      "[CV 3/3] END criterion=entropy, n_estimators=291;, score=0.806 total time=   0.3s\n",
      "[CV 1/3] END criterion=entropy, n_estimators=301;, score=0.814 total time=   0.4s\n",
      "[CV 2/3] END criterion=entropy, n_estimators=301;, score=0.852 total time=   0.4s\n",
      "[CV 3/3] END criterion=entropy, n_estimators=301;, score=0.810 total time=   0.3s\n",
      "[CV 1/3] END criterion=entropy, n_estimators=311;, score=0.814 total time=   0.4s\n",
      "[CV 2/3] END criterion=entropy, n_estimators=311;, score=0.848 total time=   0.4s\n",
      "[CV 3/3] END criterion=entropy, n_estimators=311;, score=0.802 total time=   0.4s\n",
      "[CV 1/3] END criterion=entropy, n_estimators=321;, score=0.814 total time=   0.4s\n",
      "[CV 2/3] END criterion=entropy, n_estimators=321;, score=0.852 total time=   0.4s\n",
      "[CV 3/3] END criterion=entropy, n_estimators=321;, score=0.810 total time=   0.4s\n",
      "[CV 1/3] END criterion=entropy, n_estimators=331;, score=0.814 total time=   0.5s\n",
      "[CV 2/3] END criterion=entropy, n_estimators=331;, score=0.852 total time=   0.5s\n",
      "[CV 3/3] END criterion=entropy, n_estimators=331;, score=0.810 total time=   0.4s\n",
      "[CV 1/3] END criterion=entropy, n_estimators=341;, score=0.823 total time=   0.5s\n",
      "[CV 2/3] END criterion=entropy, n_estimators=341;, score=0.865 total time=   0.5s\n",
      "[CV 3/3] END criterion=entropy, n_estimators=341;, score=0.802 total time=   0.4s\n",
      "[CV 1/3] END criterion=entropy, n_estimators=351;, score=0.810 total time=   0.4s\n",
      "[CV 2/3] END criterion=entropy, n_estimators=351;, score=0.844 total time=   0.4s\n",
      "[CV 3/3] END criterion=entropy, n_estimators=351;, score=0.814 total time=   0.4s\n",
      "[CV 1/3] END criterion=entropy, n_estimators=361;, score=0.823 total time=   0.4s\n",
      "[CV 2/3] END criterion=entropy, n_estimators=361;, score=0.848 total time=   0.5s\n"
     ]
    },
    {
     "name": "stdout",
     "output_type": "stream",
     "text": [
      "[CV 3/3] END criterion=entropy, n_estimators=361;, score=0.806 total time=   0.4s\n",
      "[CV 1/3] END criterion=entropy, n_estimators=371;, score=0.810 total time=   0.3s\n",
      "[CV 2/3] END criterion=entropy, n_estimators=371;, score=0.844 total time=   0.3s\n",
      "[CV 3/3] END criterion=entropy, n_estimators=371;, score=0.814 total time=   0.3s\n",
      "[CV 1/3] END criterion=entropy, n_estimators=381;, score=0.819 total time=   0.4s\n",
      "[CV 2/3] END criterion=entropy, n_estimators=381;, score=0.835 total time=   0.4s\n",
      "[CV 3/3] END criterion=entropy, n_estimators=381;, score=0.814 total time=   0.4s\n",
      "[CV 1/3] END criterion=entropy, n_estimators=391;, score=0.819 total time=   0.4s\n",
      "[CV 2/3] END criterion=entropy, n_estimators=391;, score=0.848 total time=   0.4s\n",
      "[CV 3/3] END criterion=entropy, n_estimators=391;, score=0.814 total time=   0.4s\n",
      "[CV 1/3] END criterion=entropy, n_estimators=401;, score=0.823 total time=   0.4s\n",
      "[CV 2/3] END criterion=entropy, n_estimators=401;, score=0.848 total time=   0.4s\n",
      "[CV 3/3] END criterion=entropy, n_estimators=401;, score=0.802 total time=   0.4s\n",
      "[CV 1/3] END criterion=entropy, n_estimators=411;, score=0.819 total time=   0.4s\n",
      "[CV 2/3] END criterion=entropy, n_estimators=411;, score=0.844 total time=   0.4s\n",
      "[CV 3/3] END criterion=entropy, n_estimators=411;, score=0.814 total time=   0.4s\n",
      "[CV 1/3] END criterion=entropy, n_estimators=421;, score=0.810 total time=   0.4s\n",
      "[CV 2/3] END criterion=entropy, n_estimators=421;, score=0.848 total time=   0.5s\n",
      "[CV 3/3] END criterion=entropy, n_estimators=421;, score=0.810 total time=   0.5s\n",
      "[CV 1/3] END criterion=entropy, n_estimators=431;, score=0.814 total time=   0.4s\n",
      "[CV 2/3] END criterion=entropy, n_estimators=431;, score=0.848 total time=   0.4s\n",
      "[CV 3/3] END criterion=entropy, n_estimators=431;, score=0.814 total time=   0.4s\n",
      "[CV 1/3] END criterion=entropy, n_estimators=441;, score=0.819 total time=   0.4s\n",
      "[CV 2/3] END criterion=entropy, n_estimators=441;, score=0.835 total time=   0.4s\n",
      "[CV 3/3] END criterion=entropy, n_estimators=441;, score=0.810 total time=   0.4s\n",
      "[CV 1/3] END criterion=entropy, n_estimators=451;, score=0.814 total time=   0.4s\n",
      "[CV 2/3] END criterion=entropy, n_estimators=451;, score=0.869 total time=   0.4s\n",
      "[CV 3/3] END criterion=entropy, n_estimators=451;, score=0.802 total time=   0.4s\n",
      "[CV 1/3] END criterion=entropy, n_estimators=461;, score=0.806 total time=   0.5s\n",
      "[CV 2/3] END criterion=entropy, n_estimators=461;, score=0.848 total time=   0.4s\n",
      "[CV 3/3] END criterion=entropy, n_estimators=461;, score=0.802 total time=   0.4s\n",
      "[CV 1/3] END criterion=entropy, n_estimators=471;, score=0.819 total time=   0.4s\n",
      "[CV 2/3] END criterion=entropy, n_estimators=471;, score=0.840 total time=   0.4s\n",
      "[CV 3/3] END criterion=entropy, n_estimators=471;, score=0.810 total time=   0.4s\n",
      "[CV 1/3] END criterion=entropy, n_estimators=481;, score=0.802 total time=   0.5s\n",
      "[CV 2/3] END criterion=entropy, n_estimators=481;, score=0.840 total time=   0.5s\n",
      "[CV 3/3] END criterion=entropy, n_estimators=481;, score=0.814 total time=   0.6s\n",
      "[CV 1/3] END criterion=entropy, n_estimators=491;, score=0.823 total time=   0.6s\n",
      "[CV 2/3] END criterion=entropy, n_estimators=491;, score=0.852 total time=   0.5s\n",
      "[CV 3/3] END criterion=entropy, n_estimators=491;, score=0.814 total time=   0.5s\n",
      "[CV 1/3] END criterion=entropy, n_estimators=501;, score=0.810 total time=   0.5s\n",
      "[CV 2/3] END criterion=entropy, n_estimators=501;, score=0.844 total time=   0.5s\n",
      "[CV 3/3] END criterion=entropy, n_estimators=501;, score=0.806 total time=   0.5s\n",
      "[CV 1/3] END criterion=entropy, n_estimators=511;, score=0.819 total time=   0.5s\n",
      "[CV 2/3] END criterion=entropy, n_estimators=511;, score=0.857 total time=   0.5s\n",
      "[CV 3/3] END criterion=entropy, n_estimators=511;, score=0.810 total time=   0.5s\n",
      "[CV 1/3] END criterion=entropy, n_estimators=521;, score=0.810 total time=   0.5s\n",
      "[CV 2/3] END criterion=entropy, n_estimators=521;, score=0.844 total time=   0.5s\n",
      "[CV 3/3] END criterion=entropy, n_estimators=521;, score=0.806 total time=   0.5s\n",
      "[CV 1/3] END criterion=entropy, n_estimators=531;, score=0.819 total time=   0.5s\n",
      "[CV 2/3] END criterion=entropy, n_estimators=531;, score=0.844 total time=   0.5s\n",
      "[CV 3/3] END criterion=entropy, n_estimators=531;, score=0.806 total time=   0.5s\n",
      "[CV 1/3] END criterion=entropy, n_estimators=541;, score=0.814 total time=   0.5s\n",
      "[CV 2/3] END criterion=entropy, n_estimators=541;, score=0.857 total time=   0.5s\n",
      "[CV 3/3] END criterion=entropy, n_estimators=541;, score=0.810 total time=   0.6s\n",
      "[CV 1/3] END criterion=entropy, n_estimators=551;, score=0.810 total time=   0.5s\n",
      "[CV 2/3] END criterion=entropy, n_estimators=551;, score=0.852 total time=   0.5s\n",
      "[CV 3/3] END criterion=entropy, n_estimators=551;, score=0.806 total time=   0.5s\n",
      "[CV 1/3] END criterion=entropy, n_estimators=561;, score=0.827 total time=   0.5s\n",
      "[CV 2/3] END criterion=entropy, n_estimators=561;, score=0.848 total time=   0.6s\n",
      "[CV 3/3] END criterion=entropy, n_estimators=561;, score=0.814 total time=   0.5s\n",
      "[CV 1/3] END criterion=entropy, n_estimators=571;, score=0.814 total time=   0.6s\n",
      "[CV 2/3] END criterion=entropy, n_estimators=571;, score=0.848 total time=   0.6s\n",
      "[CV 3/3] END criterion=entropy, n_estimators=571;, score=0.814 total time=   0.6s\n",
      "[CV 1/3] END criterion=entropy, n_estimators=581;, score=0.823 total time=   0.6s\n",
      "[CV 2/3] END criterion=entropy, n_estimators=581;, score=0.844 total time=   0.6s\n",
      "[CV 3/3] END criterion=entropy, n_estimators=581;, score=0.806 total time=   0.6s\n",
      "[CV 1/3] END criterion=entropy, n_estimators=591;, score=0.823 total time=   0.6s\n",
      "[CV 2/3] END criterion=entropy, n_estimators=591;, score=0.840 total time=   0.8s\n",
      "[CV 3/3] END criterion=entropy, n_estimators=591;, score=0.806 total time=   0.7s\n",
      "[CV 1/3] END criterion=entropy, n_estimators=601;, score=0.823 total time=   0.7s\n",
      "[CV 2/3] END criterion=entropy, n_estimators=601;, score=0.852 total time=   0.6s\n",
      "[CV 3/3] END criterion=entropy, n_estimators=601;, score=0.806 total time=   0.6s\n",
      "[CV 1/3] END criterion=entropy, n_estimators=611;, score=0.814 total time=   0.6s\n",
      "[CV 2/3] END criterion=entropy, n_estimators=611;, score=0.848 total time=   0.6s\n",
      "[CV 3/3] END criterion=entropy, n_estimators=611;, score=0.810 total time=   0.6s\n",
      "[CV 1/3] END criterion=entropy, n_estimators=621;, score=0.827 total time=   0.9s\n",
      "[CV 2/3] END criterion=entropy, n_estimators=621;, score=0.844 total time=   0.7s\n",
      "[CV 3/3] END criterion=entropy, n_estimators=621;, score=0.806 total time=   0.6s\n",
      "[CV 1/3] END criterion=entropy, n_estimators=631;, score=0.827 total time=   0.6s\n",
      "[CV 2/3] END criterion=entropy, n_estimators=631;, score=0.844 total time=   0.6s\n",
      "[CV 3/3] END criterion=entropy, n_estimators=631;, score=0.806 total time=   0.7s\n",
      "[CV 1/3] END criterion=entropy, n_estimators=641;, score=0.819 total time=   0.7s\n",
      "[CV 2/3] END criterion=entropy, n_estimators=641;, score=0.852 total time=   0.7s\n",
      "[CV 3/3] END criterion=entropy, n_estimators=641;, score=0.819 total time=   0.6s\n",
      "[CV 1/3] END criterion=entropy, n_estimators=651;, score=0.814 total time=   0.6s\n",
      "[CV 2/3] END criterion=entropy, n_estimators=651;, score=0.852 total time=   0.7s\n",
      "[CV 3/3] END criterion=entropy, n_estimators=651;, score=0.806 total time=   0.7s\n",
      "[CV 1/3] END criterion=entropy, n_estimators=661;, score=0.823 total time=   0.7s\n",
      "[CV 2/3] END criterion=entropy, n_estimators=661;, score=0.848 total time=   0.7s\n",
      "[CV 3/3] END criterion=entropy, n_estimators=661;, score=0.819 total time=   0.7s\n",
      "[CV 1/3] END criterion=entropy, n_estimators=671;, score=0.823 total time=   0.7s\n",
      "[CV 2/3] END criterion=entropy, n_estimators=671;, score=0.848 total time=   0.7s\n",
      "[CV 3/3] END criterion=entropy, n_estimators=671;, score=0.810 total time=   0.7s\n",
      "[CV 1/3] END criterion=entropy, n_estimators=681;, score=0.827 total time=   0.7s\n",
      "[CV 2/3] END criterion=entropy, n_estimators=681;, score=0.848 total time=   0.7s\n",
      "[CV 3/3] END criterion=entropy, n_estimators=681;, score=0.810 total time=   0.8s\n",
      "[CV 1/3] END criterion=entropy, n_estimators=691;, score=0.827 total time=   0.8s\n",
      "[CV 2/3] END criterion=entropy, n_estimators=691;, score=0.840 total time=   0.7s\n",
      "[CV 3/3] END criterion=entropy, n_estimators=691;, score=0.806 total time=   0.7s\n"
     ]
    },
    {
     "name": "stdout",
     "output_type": "stream",
     "text": [
      "[CV 1/3] END criterion=entropy, n_estimators=701;, score=0.823 total time=   0.8s\n",
      "[CV 2/3] END criterion=entropy, n_estimators=701;, score=0.835 total time=   0.8s\n",
      "[CV 3/3] END criterion=entropy, n_estimators=701;, score=0.814 total time=   0.9s\n",
      "[CV 1/3] END criterion=entropy, n_estimators=711;, score=0.810 total time=   1.0s\n",
      "[CV 2/3] END criterion=entropy, n_estimators=711;, score=0.852 total time=   0.8s\n",
      "[CV 3/3] END criterion=entropy, n_estimators=711;, score=0.810 total time=   0.7s\n",
      "[CV 1/3] END criterion=entropy, n_estimators=721;, score=0.814 total time=   0.8s\n",
      "[CV 2/3] END criterion=entropy, n_estimators=721;, score=0.857 total time=   0.9s\n",
      "[CV 3/3] END criterion=entropy, n_estimators=721;, score=0.810 total time=   0.9s\n",
      "[CV 1/3] END criterion=entropy, n_estimators=731;, score=0.806 total time=   0.8s\n",
      "[CV 2/3] END criterion=entropy, n_estimators=731;, score=0.857 total time=   0.9s\n",
      "[CV 3/3] END criterion=entropy, n_estimators=731;, score=0.806 total time=   0.9s\n",
      "[CV 1/3] END criterion=entropy, n_estimators=741;, score=0.819 total time=   0.9s\n",
      "[CV 2/3] END criterion=entropy, n_estimators=741;, score=0.857 total time=   0.8s\n",
      "[CV 3/3] END criterion=entropy, n_estimators=741;, score=0.802 total time=   0.8s\n",
      "[CV 1/3] END criterion=entropy, n_estimators=751;, score=0.810 total time=   0.9s\n",
      "[CV 2/3] END criterion=entropy, n_estimators=751;, score=0.844 total time=   0.8s\n",
      "[CV 3/3] END criterion=entropy, n_estimators=751;, score=0.810 total time=   0.9s\n",
      "[CV 1/3] END criterion=entropy, n_estimators=761;, score=0.827 total time=   1.0s\n",
      "[CV 2/3] END criterion=entropy, n_estimators=761;, score=0.865 total time=   1.0s\n",
      "[CV 3/3] END criterion=entropy, n_estimators=761;, score=0.819 total time=   1.0s\n",
      "[CV 1/3] END criterion=entropy, n_estimators=771;, score=0.819 total time=   0.9s\n",
      "[CV 2/3] END criterion=entropy, n_estimators=771;, score=0.852 total time=   0.9s\n",
      "[CV 3/3] END criterion=entropy, n_estimators=771;, score=0.810 total time=   0.9s\n",
      "[CV 1/3] END criterion=entropy, n_estimators=781;, score=0.827 total time=   0.8s\n",
      "[CV 2/3] END criterion=entropy, n_estimators=781;, score=0.852 total time=   1.0s\n",
      "[CV 3/3] END criterion=entropy, n_estimators=781;, score=0.814 total time=   0.8s\n",
      "[CV 1/3] END criterion=entropy, n_estimators=791;, score=0.814 total time=   0.9s\n",
      "[CV 2/3] END criterion=entropy, n_estimators=791;, score=0.852 total time=   0.9s\n",
      "[CV 3/3] END criterion=entropy, n_estimators=791;, score=0.810 total time=   0.9s\n",
      "[CV 1/3] END criterion=entropy, n_estimators=801;, score=0.831 total time=   0.9s\n",
      "[CV 2/3] END criterion=entropy, n_estimators=801;, score=0.852 total time=   1.0s\n",
      "[CV 3/3] END criterion=entropy, n_estimators=801;, score=0.814 total time=   0.9s\n",
      "[CV 1/3] END criterion=entropy, n_estimators=811;, score=0.814 total time=   1.1s\n",
      "[CV 2/3] END criterion=entropy, n_estimators=811;, score=0.844 total time=   0.8s\n",
      "[CV 3/3] END criterion=entropy, n_estimators=811;, score=0.814 total time=   0.8s\n",
      "[CV 1/3] END criterion=entropy, n_estimators=821;, score=0.819 total time=   0.8s\n",
      "[CV 2/3] END criterion=entropy, n_estimators=821;, score=0.857 total time=   0.9s\n",
      "[CV 3/3] END criterion=entropy, n_estimators=821;, score=0.814 total time=   0.9s\n",
      "[CV 1/3] END criterion=entropy, n_estimators=831;, score=0.819 total time=   1.1s\n",
      "[CV 2/3] END criterion=entropy, n_estimators=831;, score=0.844 total time=   1.0s\n",
      "[CV 3/3] END criterion=entropy, n_estimators=831;, score=0.814 total time=   0.9s\n",
      "[CV 1/3] END criterion=entropy, n_estimators=841;, score=0.831 total time=   1.0s\n",
      "[CV 2/3] END criterion=entropy, n_estimators=841;, score=0.852 total time=   0.9s\n",
      "[CV 3/3] END criterion=entropy, n_estimators=841;, score=0.802 total time=   0.9s\n",
      "[CV 1/3] END criterion=entropy, n_estimators=851;, score=0.823 total time=   0.9s\n",
      "[CV 2/3] END criterion=entropy, n_estimators=851;, score=0.848 total time=   0.9s\n",
      "[CV 3/3] END criterion=entropy, n_estimators=851;, score=0.819 total time=   0.9s\n",
      "[CV 1/3] END criterion=entropy, n_estimators=861;, score=0.814 total time=   0.9s\n",
      "[CV 2/3] END criterion=entropy, n_estimators=861;, score=0.852 total time=   0.9s\n",
      "[CV 3/3] END criterion=entropy, n_estimators=861;, score=0.814 total time=   0.9s\n",
      "[CV 1/3] END criterion=entropy, n_estimators=871;, score=0.806 total time=   0.9s\n",
      "[CV 2/3] END criterion=entropy, n_estimators=871;, score=0.844 total time=   0.9s\n",
      "[CV 3/3] END criterion=entropy, n_estimators=871;, score=0.814 total time=   0.9s\n",
      "[CV 1/3] END criterion=entropy, n_estimators=881;, score=0.814 total time=   1.0s\n",
      "[CV 2/3] END criterion=entropy, n_estimators=881;, score=0.844 total time=   1.0s\n",
      "[CV 3/3] END criterion=entropy, n_estimators=881;, score=0.819 total time=   1.0s\n",
      "[CV 1/3] END criterion=entropy, n_estimators=891;, score=0.823 total time=   1.1s\n",
      "[CV 2/3] END criterion=entropy, n_estimators=891;, score=0.844 total time=   1.1s\n",
      "[CV 3/3] END criterion=entropy, n_estimators=891;, score=0.810 total time=   0.9s\n",
      "[CV 1/3] END criterion=entropy, n_estimators=901;, score=0.810 total time=   0.9s\n",
      "[CV 2/3] END criterion=entropy, n_estimators=901;, score=0.844 total time=   1.1s\n",
      "[CV 3/3] END criterion=entropy, n_estimators=901;, score=0.814 total time=   1.1s\n",
      "[CV 1/3] END criterion=entropy, n_estimators=911;, score=0.827 total time=   1.0s\n",
      "[CV 2/3] END criterion=entropy, n_estimators=911;, score=0.848 total time=   1.0s\n",
      "[CV 3/3] END criterion=entropy, n_estimators=911;, score=0.819 total time=   1.2s\n",
      "[CV 1/3] END criterion=entropy, n_estimators=921;, score=0.810 total time=   1.0s\n",
      "[CV 2/3] END criterion=entropy, n_estimators=921;, score=0.852 total time=   1.0s\n",
      "[CV 3/3] END criterion=entropy, n_estimators=921;, score=0.810 total time=   1.0s\n",
      "[CV 1/3] END criterion=entropy, n_estimators=931;, score=0.814 total time=   1.0s\n",
      "[CV 2/3] END criterion=entropy, n_estimators=931;, score=0.848 total time=   1.2s\n",
      "[CV 3/3] END criterion=entropy, n_estimators=931;, score=0.806 total time=   1.1s\n",
      "[CV 1/3] END criterion=entropy, n_estimators=941;, score=0.823 total time=   1.0s\n",
      "[CV 2/3] END criterion=entropy, n_estimators=941;, score=0.852 total time=   1.0s\n",
      "[CV 3/3] END criterion=entropy, n_estimators=941;, score=0.810 total time=   1.1s\n",
      "[CV 1/3] END criterion=entropy, n_estimators=951;, score=0.806 total time=   1.3s\n",
      "[CV 2/3] END criterion=entropy, n_estimators=951;, score=0.848 total time=   1.0s\n",
      "[CV 3/3] END criterion=entropy, n_estimators=951;, score=0.802 total time=   1.1s\n",
      "[CV 1/3] END criterion=entropy, n_estimators=961;, score=0.819 total time=   1.1s\n",
      "[CV 2/3] END criterion=entropy, n_estimators=961;, score=0.852 total time=   1.1s\n",
      "[CV 3/3] END criterion=entropy, n_estimators=961;, score=0.814 total time=   1.0s\n",
      "[CV 1/3] END criterion=entropy, n_estimators=971;, score=0.819 total time=   1.0s\n",
      "[CV 2/3] END criterion=entropy, n_estimators=971;, score=0.835 total time=   1.0s\n",
      "[CV 3/3] END criterion=entropy, n_estimators=971;, score=0.810 total time=   1.0s\n",
      "[CV 1/3] END criterion=entropy, n_estimators=981;, score=0.814 total time=   1.0s\n",
      "[CV 2/3] END criterion=entropy, n_estimators=981;, score=0.844 total time=   1.1s\n",
      "[CV 3/3] END criterion=entropy, n_estimators=981;, score=0.806 total time=   1.1s\n",
      "[CV 1/3] END criterion=entropy, n_estimators=991;, score=0.823 total time=   1.1s\n",
      "[CV 2/3] END criterion=entropy, n_estimators=991;, score=0.848 total time=   1.0s\n",
      "[CV 3/3] END criterion=entropy, n_estimators=991;, score=0.814 total time=   1.1s\n"
     ]
    },
    {
     "data": {
      "text/plain": [
       "GridSearchCV(cv=3, estimator=RandomForestClassifier(),\n",
       "             param_grid={'criterion': ['gini', 'entropy'],\n",
       "                         'n_estimators': range(1, 1000, 10)},\n",
       "             verbose=3)"
      ]
     },
     "execution_count": 474,
     "metadata": {},
     "output_type": "execute_result"
    }
   ],
   "source": [
    "from sklearn.ensemble import RandomForestClassifier\n",
    "forest = RandomForestClassifier()\n",
    "\n",
    "parametrs = { 'n_estimators': range(1, 1000, 10),\n",
    "              'criterion': ['gini', 'entropy']}\n",
    "\n",
    "forestCV = GridSearchCV(forest, parametrs, cv=3, refit = True, verbose = 3)\n",
    "forestCV.fit(X_train, y_train)"
   ]
  },
  {
   "cell_type": "code",
   "execution_count": 477,
   "id": "9f7946b3",
   "metadata": {},
   "outputs": [
    {
     "data": {
      "text/plain": [
       "{'criterion': 'entropy', 'n_estimators': 111}"
      ]
     },
     "execution_count": 477,
     "metadata": {},
     "output_type": "execute_result"
    }
   ],
   "source": [
    "forestCV.best_params_"
   ]
  },
  {
   "cell_type": "code",
   "execution_count": 478,
   "id": "3dc246e3",
   "metadata": {},
   "outputs": [
    {
     "data": {
      "text/plain": [
       "RandomForestClassifier(criterion='entropy', n_estimators=111)"
      ]
     },
     "execution_count": 478,
     "metadata": {},
     "output_type": "execute_result"
    }
   ],
   "source": [
    "forest = RandomForestClassifier(criterion = 'entropy', n_estimators = 111)\n",
    "forest.fit(X_train, y_train)"
   ]
  },
  {
   "cell_type": "code",
   "execution_count": 479,
   "id": "ad89aee8",
   "metadata": {},
   "outputs": [
    {
     "name": "stdout",
     "output_type": "stream",
     "text": [
      "1.0\n",
      "0.8033707865168539\n"
     ]
    }
   ],
   "source": [
    "print(forest.score(X_train, y_train))\n",
    "print(forest.score(X_test, y_test))"
   ]
  },
  {
   "cell_type": "code",
   "execution_count": 480,
   "id": "8291c3dd",
   "metadata": {},
   "outputs": [
    {
     "name": "stdout",
     "output_type": "stream",
     "text": [
      "              precision    recall  f1-score   support\n",
      "\n",
      "           0       0.84      0.84      0.84       109\n",
      "           1       0.75      0.74      0.74        69\n",
      "\n",
      "    accuracy                           0.80       178\n",
      "   macro avg       0.79      0.79      0.79       178\n",
      "weighted avg       0.80      0.80      0.80       178\n",
      "\n",
      "[[92 17]\n",
      " [18 51]]\n"
     ]
    }
   ],
   "source": [
    "forest_res = forest.predict(X_test)\n",
    "\n",
    "forest_res_acc = metrics.accuracy_score(y_test, forest_res)\n",
    "forest_res_precc = metrics.precision_score(y_test, forest_res)\n",
    "forest_res_recall = metrics.recall_score(y_test, forest_res)\n",
    "forest_res_f1 = metrics.f1_score(y_test, forest_res)\n",
    "\n",
    "print(classification_report(y_test, forest_res))\n",
    "print(metrics.confusion_matrix(y_test, forest_res))"
   ]
  },
  {
   "cell_type": "code",
   "execution_count": 481,
   "id": "d7f8c403",
   "metadata": {},
   "outputs": [
    {
     "data": {
      "image/png": "[encoded data removed]",
      "text/plain": [
       "<Figure size 1080x720 with 2 Axes>"
      ]
     },
     "metadata": {},
     "output_type": "display_data"
    }
   ],
   "source": [
    "fig = plt.figure(figsize=(15, 10))\n",
    "conf_mat = confusion_matrix(y_test, forest_res)\n",
    "sns.heatmap(conf_mat, annot=True, fmt='g', cmap='mako');"
   ]
  },
  {
   "cell_type": "markdown",
   "id": "ba7966f6",
   "metadata": {},
   "source": [
    "# MODELS COMPARISON"
   ]
  },
  {
   "cell_type": "code",
   "execution_count": 482,
   "id": "eb0186a7",
   "metadata": {},
   "outputs": [
    {
     "data": {
      "text/html": [
       "<div>\n",
       "<style scoped>\n",
       "    .dataframe tbody tr th:only-of-type {\n",
       "        vertical-align: middle;\n",
       "    }\n",
       "\n",
       "    .dataframe tbody tr th {\n",
       "        vertical-align: top;\n",
       "    }\n",
       "\n",
       "    .dataframe thead th {\n",
       "        text-align: right;\n",
       "    }\n",
       "</style>\n",
       "<table border=\"1\" class=\"dataframe\">\n",
       "  <thead>\n",
       "    <tr style=\"text-align: right;\">\n",
       "      <th></th>\n",
       "      <th>Model</th>\n",
       "      <th>Accuracy Score</th>\n",
       "      <th>Precision</th>\n",
       "      <th>Recall</th>\n",
       "      <th>F1 Score</th>\n",
       "    </tr>\n",
       "  </thead>\n",
       "  <tbody>\n",
       "    <tr>\n",
       "      <th>0</th>\n",
       "      <td>SVM</td>\n",
       "      <td>0.814607</td>\n",
       "      <td>0.750000</td>\n",
       "      <td>0.782609</td>\n",
       "      <td>0.765957</td>\n",
       "    </tr>\n",
       "    <tr>\n",
       "      <th>1</th>\n",
       "      <td>Random Forest</td>\n",
       "      <td>0.803371</td>\n",
       "      <td>0.750000</td>\n",
       "      <td>0.739130</td>\n",
       "      <td>0.744526</td>\n",
       "    </tr>\n",
       "    <tr>\n",
       "      <th>2</th>\n",
       "      <td>KNNneighbors</td>\n",
       "      <td>0.792135</td>\n",
       "      <td>0.722222</td>\n",
       "      <td>0.753623</td>\n",
       "      <td>0.737589</td>\n",
       "    </tr>\n",
       "    <tr>\n",
       "      <th>3</th>\n",
       "      <td>Log Reg</td>\n",
       "      <td>0.775281</td>\n",
       "      <td>0.670588</td>\n",
       "      <td>0.826087</td>\n",
       "      <td>0.740260</td>\n",
       "    </tr>\n",
       "    <tr>\n",
       "      <th>4</th>\n",
       "      <td>Naive Bayes</td>\n",
       "      <td>0.752809</td>\n",
       "      <td>0.643678</td>\n",
       "      <td>0.811594</td>\n",
       "      <td>0.717949</td>\n",
       "    </tr>\n",
       "    <tr>\n",
       "      <th>5</th>\n",
       "      <td>Decision Tree</td>\n",
       "      <td>0.730337</td>\n",
       "      <td>0.632911</td>\n",
       "      <td>0.724638</td>\n",
       "      <td>0.675676</td>\n",
       "    </tr>\n",
       "  </tbody>\n",
       "</table>\n",
       "</div>"
      ],
      "text/plain": [
       "           Model  Accuracy Score  Precision    Recall  F1 Score\n",
       "0            SVM        0.814607   0.750000  0.782609  0.765957\n",
       "1  Random Forest        0.803371   0.750000  0.739130  0.744526\n",
       "2   KNNneighbors        0.792135   0.722222  0.753623  0.737589\n",
       "3        Log Reg        0.775281   0.670588  0.826087  0.740260\n",
       "4    Naive Bayes        0.752809   0.643678  0.811594  0.717949\n",
       "5  Decision Tree        0.730337   0.632911  0.724638  0.675676"
      ]
     },
     "execution_count": 482,
     "metadata": {},
     "output_type": "execute_result"
    }
   ],
   "source": [
    "Model_Comparison = pd.DataFrame({\n",
    "'Model' : ['Log Reg', 'KNNneighbors', 'SVM', 'Naive Bayes', 'Decision Tree','Random Forest', ],\n",
    "'Accuracy Score' : [logreg_redict_acc, k_res_pred_acc, svm_res_acc,\n",
    "                   bay_res_acc, tree_res_acc, forest_res_acc],\n",
    "'Precision' : [logreg_redict_precc, k_res_pred_precc, svm_res_precc,\n",
    "              bay_res_precc, tree_res_precc, forest_res_precc],\n",
    "'Recall': [logreg_redict_recall, k_res_pred_recall, svm_res_recall,\n",
    "          bay_res_recall, tree_res_recall, forest_res_recall],\n",
    "'F1 Score': [logreg_redict_f1, k_res_pred_f1, svm_res_f1,\n",
    "            bay_res_f1, tree_res_f1, forest_res_f1]})\n",
    "Model_Comparison_df = Model_Comparison.sort_values(by='Accuracy Score', ascending=False)\n",
    "Model_Comparison_df = Model_Comparison_df.set_index('Model')\n",
    "Model_Comparison_df.reset_index()"
   ]
  },
  {
   "cell_type": "code",
   "execution_count": 483,
   "id": "c8157ad6",
   "metadata": {},
   "outputs": [
    {
     "data": {
      "image/png": "[encoded data removed]",
      "text/plain": [
       "<Figure size 720x432 with 2 Axes>"
      ]
     },
     "metadata": {},
     "output_type": "display_data"
    }
   ],
   "source": [
    "sns.set(rc={'figure.figsize':(10,6)})\n",
    "sns.heatmap(Model_Comparison_df, annot=True, cmap='mako')\n",
    "plt.title('Model Comparison', fontsize=18);"
   ]
  },
  {
   "cell_type": "markdown",
   "id": "9bb1a6ad",
   "metadata": {},
   "source": [
    "# TIME TO CHOSE FINAL MODEL"
   ]
  },
  {
   "cell_type": "code",
   "execution_count": 500,
   "id": "e85c3098",
   "metadata": {},
   "outputs": [
    {
     "name": "stdout",
     "output_type": "stream",
     "text": [
      "Your submission was successfully saved!\n"
     ]
    }
   ],
   "source": [
    "features = [\"Pclass\", \"Sex\", \"SibSp\", \"Parch\"]\n",
    "\n",
    "y = df[\"Survived\"]\n",
    "X = df.drop('Survived', axis=1)\n",
    "X = pd.get_dummies(df[features])\n",
    "\n",
    "\n",
    "X_test = s_scaler.fit_transform(df_test)\n",
    "X_test = pd.get_dummies(df_test[features])\n",
    "\n",
    "final_mod = svm\n",
    "final_mod.fit(X, y)\n",
    "\n",
    "predictions = final_mod.predict(X_test)\n",
    "\n",
    "output = pd.DataFrame({'PassengerId': df_test.PassengerId, 'Survived': predictions})\n",
    "output.to_csv('submission.csv', index=False)\n",
    "print(\"Your submission was successfully saved!\")"
   ]
  },
  {
   "cell_type": "code",
   "execution_count": null,
   "id": "8ccfaeef",
   "metadata": {},
   "outputs": [],
   "source": []
  }
 ],
 "metadata": {
  "kernelspec": {
   "display_name": "Python 3 (ipykernel)",
   "language": "python",
   "name": "python3"
  },
  "language_info": {
   "codemirror_mode": {
    "name": "ipython",
    "version": 3
   },
   "file_extension": ".py",
   "mimetype": "text/x-python",
   "name": "python",
   "nbconvert_exporter": "python",
   "pygments_lexer": "ipython3",
   "version": "3.10.2"
  }
 },
 "nbformat": 4,
 "nbformat_minor": 5
}
